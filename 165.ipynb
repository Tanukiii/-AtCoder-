{
 "cells": [
  {
   "cell_type": "markdown",
   "metadata": {},
   "source": [
    "# A We Love Golf"
   ]
  },
  {
   "cell_type": "markdown",
   "metadata": {},
   "source": [
    "ジャンボ高橋君はゴルフの練習をすることにしました。ジャンボ高橋君の目標は飛距離を Kの倍数にすることですが、ジャンボ高橋君の出せる飛距離の範囲は A以上B以下です。目標の達成が可能であれば OK と、不可能であれば NG と出力してください。"
   ]
  },
  {
   "cell_type": "markdown",
   "metadata": {},
   "source": [
    "Takahashi the Jumbo will practice golf. His objective is to get a carry distance that is a multiple of K, while he can only make a carry distance of between A and B(inclusive).If he can achieve the objective, print OK; if he cannot, print NG."
   ]
  },
  {
   "cell_type": "code",
   "execution_count": 8,
   "metadata": {},
   "outputs": [
    {
     "name": "stdout",
     "output_type": "stream",
     "text": [
      "2\n",
      "22 66\n",
      "OK\n"
     ]
    }
   ],
   "source": [
    "K = int(input())\n",
    "A, B = map(int, input().split())\n",
    "\n",
    "for i in range(A, B+1):\n",
    "    if i % K ==0:\n",
    "        print(\"OK\")\n",
    "        break\n",
    "else:                     # このelseは for文に対して\n",
    "    print(\"NG\")"
   ]
  },
  {
   "cell_type": "code",
   "execution_count": null,
   "metadata": {},
   "outputs": [],
   "source": []
  },
  {
   "cell_type": "markdown",
   "metadata": {},
   "source": [
    "# B 1%"
   ]
  },
  {
   "cell_type": "markdown",
   "metadata": {},
   "source": [
    "高橋くんはAtCoder銀行に \n",
    "100\n",
    " 円を預けています。\n",
    "\n",
    "AtCoder銀行では、毎年預金額の \n",
    "1\n",
    " % の利子がつきます(複利、小数点以下切り捨て)。\n",
    "\n",
    "利子以外の要因で預金額が変化することはないと仮定したとき、高橋くんの預金額が初めて \n",
    "X\n",
    "円以上になるのは何年後でしょうか。\n",
    "\n"
   ]
  },
  {
   "cell_type": "markdown",
   "metadata": {},
   "source": [
    "Takahashi has a deposit of \n",
    "100\n",
    " yen (the currency of Japan) in AtCoder Bank.\n",
    "\n",
    "The bank pays an annual interest rate of \n",
    "1\n",
    " % compounded annually. (A fraction of less than one yen is discarded.)\n",
    "\n",
    "Assuming that nothing other than the interest affects Takahashi's balance, in how many years does the balance reach \n",
    "X\n",
    " yen or above for the first time?"
   ]
  },
  {
   "cell_type": "code",
   "execution_count": 15,
   "metadata": {},
   "outputs": [
    {
     "name": "stdout",
     "output_type": "stream",
     "text": [
      "12\n",
      "0\n"
     ]
    }
   ],
   "source": [
    "X = int(input())\n",
    "\n",
    "n = 100\n",
    "count = 0\n",
    "\n",
    "while n < X:\n",
    "    count += 1\n",
    "    n = int(n * 1.01)\n",
    "print(count) "
   ]
  }
 ],
 "metadata": {
  "kernelspec": {
   "display_name": "Python 3",
   "language": "python",
   "name": "python3"
  },
  "language_info": {
   "codemirror_mode": {
    "name": "ipython",
    "version": 3
   },
   "file_extension": ".py",
   "mimetype": "text/x-python",
   "name": "python",
   "nbconvert_exporter": "python",
   "pygments_lexer": "ipython3",
   "version": "3.6.8"
  }
 },
 "nbformat": 4,
 "nbformat_minor": 2
}
