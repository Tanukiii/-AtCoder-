{
 "cells": [
  {
   "cell_type": "markdown",
   "metadata": {},
   "source": [
    "# A - Star"
   ]
  },
  {
   "cell_type": "markdown",
   "metadata": {},
   "source": [
    "高橋君はゲームで遊んでいます。\n",
    "\n",
    "このゲームでは、今までに集めたコインの枚数が \n",
    "100\n",
    " の倍数になるごとにご褒美がもらえます。\n",
    "\n",
    "高橋君が今までに集めたコインの枚数は \n",
    "X\n",
    " 枚です。次にご褒美をもらうためには、あと何枚のコインを集めればよいでしょうか？ (\n",
    "X\n",
    " が \n",
    "100\n",
    " の倍数の場合、コインを累計で \n",
    "X\n",
    " 枚集めたことに対するご褒美はすでにもらったとします。)"
   ]
  },
  {
   "cell_type": "code",
   "execution_count": 2,
   "metadata": {},
   "outputs": [
    {
     "name": "stdout",
     "output_type": "stream",
     "text": [
      "140\n",
      "60\n"
     ]
    }
   ],
   "source": [
    "X = int(input())\n",
    "\n",
    "ans = 100 -(X % 100)\n",
    "print(ans)"
   ]
  },
  {
   "cell_type": "markdown",
   "metadata": {},
   "source": [
    "# B - uNrEaDaBlE sTrInG"
   ]
  },
  {
   "cell_type": "markdown",
   "metadata": {},
   "source": [
    "先頭から奇数番目の文字が全て英小文字であり、かつ、先頭から偶数番目の文字が全て英大文字であるような文字列を 読みにくい文字列 と呼びます。\n",
    "文字列 \n",
    "S\n",
    " が読みにくい文字列かどうか判定してください。"
   ]
  },
  {
   "cell_type": "code",
   "execution_count": 62,
   "metadata": {},
   "outputs": [
    {
     "name": "stdout",
     "output_type": "stream",
     "text": [
      "dIfFiCuLt\n",
      "['d', 'f', 'i', 'u', 't']\n",
      "['I', 'F', 'C', 'L']\n",
      "9 9\n",
      "Yes\n"
     ]
    }
   ],
   "source": [
    "A = list(input().split())\n",
    "A = list(A[0])\n",
    "A\n",
    "\n",
    "Odd_A = A[::2]\n",
    "#print(Odd_A)\n",
    "\n",
    "Even_A =A[1::2]\n",
    "#print(Even_A)\n",
    "\n",
    "cnt = 0\n",
    "\n",
    "for i in(Even_A):\n",
    "    if i.isupper() == True:\n",
    "        cnt+=1\n",
    "for j in (Odd_A):\n",
    "    if j.islower() == True:\n",
    "        cnt+=1\n",
    "        \n",
    "#print(len(A), cnt)\n",
    "        \n",
    "if cnt == len(A):\n",
    "    print(\"Yes\")\n",
    "else:\n",
    "    print(\"No\")"
   ]
  },
  {
   "cell_type": "markdown",
   "metadata": {},
   "source": [
    "# C - Kaprekar Number"
   ]
  },
  {
   "cell_type": "markdown",
   "metadata": {},
   "source": [
    "0\n",
    "  以上の整数 \n",
    "x\n",
    " に対して、\n",
    "g\n",
    "1\n",
    "(\n",
    "x\n",
    ")\n",
    ",\n",
    "g\n",
    "2\n",
    "(\n",
    "x\n",
    ")\n",
    ",\n",
    "f\n",
    "(\n",
    "x\n",
    ")\n",
    " を次のように定めます。\n",
    "\n",
    "g\n",
    "1\n",
    "(\n",
    "x\n",
    ")\n",
    "=\n",
    "x\n",
    " を十進法で表したときの各桁の数字を大きい順に並び替えてできる整数\n",
    " \n",
    " \n",
    "g\n",
    "2\n",
    "(\n",
    "x\n",
    ")\n",
    "=\n",
    "x\n",
    " を十進法で表したときの各桁の数字を小さい順に並び替えてできる整数\n",
    "\n",
    "f\n",
    "(\n",
    "x\n",
    ")\n",
    "=\n",
    "g\n",
    "1\n",
    "(\n",
    "x\n",
    ")\n",
    "−\n",
    "g\n",
    "2\n",
    "(\n",
    "x\n",
    ")\n",
    "\n",
    "\n",
    "例えば \n",
    "g\n",
    "1\n",
    "(\n",
    "314\n",
    ")\n",
    "=\n",
    "431\n",
    ", \n",
    "g\n",
    "2\n",
    "(\n",
    "3021\n",
    ")\n",
    "=\n",
    "123\n",
    ", \n",
    "f\n",
    "(\n",
    "271\n",
    ")\n",
    "=\n",
    "721\n",
    "−\n",
    "127\n",
    "=\n",
    "594\n",
    " です。先頭の余分な \n",
    "0\n",
    " は無視されることに注意してください。\n",
    "\n",
    "整数 \n",
    "N\n",
    ",\n",
    "K\n",
    " が与えられるので、\n",
    "a\n",
    "0\n",
    "=\n",
    "N\n",
    ", \n",
    "a\n",
    "i\n",
    "+\n",
    "1\n",
    "=\n",
    "f\n",
    "(\n",
    "a\n",
    "i\n",
    ")\n",
    " \n",
    "(\n",
    "i\n",
    "≥\n",
    "0\n",
    ")\n",
    " で定まる数列の \n",
    "a\n",
    "K\n",
    " を求めてください。"
   ]
  },
  {
   "cell_type": "code",
   "execution_count": 97,
   "metadata": {},
   "outputs": [
    {
     "name": "stdout",
     "output_type": "stream",
     "text": [
      "314 2\n",
      "693\n"
     ]
    }
   ],
   "source": [
    "N, K = map(int,input().split())\n",
    "#N, K = map(str,input().split())\n",
    " \n",
    "cnt = 0\n",
    " \n",
    "while cnt < K:\n",
    "    N = str(N)\n",
    "    g1 = sorted(N, reverse=True)\n",
    "    g1 =int(''.join(g1))\n",
    "    #print(g1)\n",
    " \n",
    "    g2 = sorted(N, reverse=False)\n",
    "    g2 =int(''.join(g2))\n",
    "    #print(g2)\n",
    " \n",
    "    f = g1 - g2\n",
    "    N = f\n",
    "    cnt +=1\n",
    "    \n",
    "print(N)"
   ]
  },
  {
   "cell_type": "markdown",
   "metadata": {},
   "source": [
    "# D - Base n"
   ]
  },
  {
   "cell_type": "markdown",
   "metadata": {},
   "source": [
    "0 ～ 9 からなる文字列 \n",
    "X\n",
    " と、整数 \n",
    "M\n",
    " が与えられます。\n",
    "\n",
    "X\n",
    " に含まれる最も大きい数字を \n",
    "d\n",
    " とします。\n",
    "\n",
    "d\n",
    "+\n",
    "1\n",
    " 以上の整数 \n",
    "n\n",
    " を選んで \n",
    "X\n",
    " を \n",
    "n\n",
    " 進法表記の数とみなして得られる値のうち、\n",
    "M\n",
    " 以下であるようなものは何種類あるでしょうか？"
   ]
  }
 ],
 "metadata": {
  "kernelspec": {
   "display_name": "Python 3",
   "language": "python",
   "name": "python3"
  },
  "language_info": {
   "codemirror_mode": {
    "name": "ipython",
    "version": 3
   },
   "file_extension": ".py",
   "mimetype": "text/x-python",
   "name": "python",
   "nbconvert_exporter": "python",
   "pygments_lexer": "ipython3",
   "version": "3.6.8"
  }
 },
 "nbformat": 4,
 "nbformat_minor": 2
}
