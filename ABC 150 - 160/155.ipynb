{
 "cells": [
  {
   "cell_type": "markdown",
   "metadata": {},
   "source": [
    "# A Poor"
   ]
  },
  {
   "cell_type": "markdown",
   "metadata": {},
   "source": [
    "3\n",
    "  つ組の数について、ある \n",
    "2\n",
    " つが等しく、残りの \n",
    "1\n",
    " つがそれらと異なるとき、その \n",
    "3\n",
    " つ組を「かわいそう」であるといいます。\n",
    "\n",
    "3\n",
    " つの整数 \n",
    "A\n",
    ",\n",
    "B\n",
    ",\n",
    "C\n",
    " が与えられるので、この \n",
    "3\n",
    " つ組がかわいそうであれば Yes を、そうでなければ No を出力してください。\n",
    "\n"
   ]
  },
  {
   "cell_type": "code",
   "execution_count": 6,
   "metadata": {},
   "outputs": [
    {
     "name": "stdout",
     "output_type": "stream",
     "text": [
      "4 4 4\n",
      "No\n"
     ]
    }
   ],
   "source": [
    "A = list(map(int, input().split()))\n",
    "B = len(set(A))\n",
    "\n",
    "if B == 2:\n",
    "    print(\"Yes\")\n",
    "else:\n",
    "    print(\"No\")"
   ]
  },
  {
   "cell_type": "markdown",
   "metadata": {},
   "source": [
    "# B Papers, Please"
   ]
  },
  {
   "cell_type": "markdown",
   "metadata": {},
   "source": [
    "あなたは AtCoder 王国の入国審査官です。入国者の書類にはいくつかの整数が書かれており、あなたの仕事はこれらが条件を満たすか判定することです。\n",
    "\n",
    "規約では、次の条件を満たすとき、またその時に限り、入国を承認することになっています。\n",
    "\n",
    "書類に書かれている整数のうち、偶数であるものは全て、\n",
    "3\n",
    " または \n",
    "5\n",
    " で割り切れる。\n",
    "上の規約に従うとき、書類に \n",
    "N\n",
    " 個の整数 \n",
    "A\n",
    "1\n",
    ",\n",
    "A\n",
    "2\n",
    ",\n",
    "…\n",
    ",\n",
    "A\n",
    "N\n",
    " が書かれた入国者を承認するならば APPROVED を、しないならば DENIED を出力してください。"
   ]
  },
  {
   "cell_type": "code",
   "execution_count": 10,
   "metadata": {},
   "outputs": [
    {
     "name": "stdout",
     "output_type": "stream",
     "text": [
      "3\n",
      "12 12 12\n",
      "APPROVED\n"
     ]
    }
   ],
   "source": [
    "import sys\n",
    "\n",
    "N = int(input())\n",
    "A = list(map(int, input().split()))\n",
    "\n",
    "for i in range(N):\n",
    "    if A[i] % 2==0:\n",
    "        if A[i] % 3 == 0 or A[i] % 5 ==0:\n",
    "            continue\n",
    "        else:\n",
    "            print(\"DENIED\")\n",
    "            sys.exit()\n",
    "print(\"APPROVED\")"
   ]
  },
  {
   "cell_type": "markdown",
   "metadata": {},
   "source": [
    "# C"
   ]
  },
  {
   "cell_type": "markdown",
   "metadata": {},
   "source": [
    "N\n",
    "  枚の投票用紙があり、\n",
    "\n",
    "i\n",
    "(\n",
    "1\n",
    "≤\n",
    "i\n",
    "≤\n",
    "N\n",
    ")\n",
    " 枚目には文字列 \n",
    "S\n",
    "i\n",
    " が書かれています。\n",
    "\n",
    "書かれた回数が最も多い文字列を全て、辞書順で小さい順に出力してください。"
   ]
  },
  {
   "cell_type": "code",
   "execution_count": 16,
   "metadata": {},
   "outputs": [
    {
     "name": "stdout",
     "output_type": "stream",
     "text": [
      "3\n",
      "er\n",
      "rr\n",
      "er\n",
      "er\n"
     ]
    }
   ],
   "source": [
    "import collections\n",
    "N = int(input())\n",
    "Si = [input() for _ in range(N)]\n",
    "\n",
    "\n",
    "\n",
    "ss = collections.Counter(Si)\n",
    "# print(ss) # 辞書型:キーに要素、値に出現回数が保存される e.g. Counter({'we': 2, 'rr': 1})\n",
    "\n",
    "n_ma = max(ss.values())\n",
    "# print( max(ss.values()))\n",
    "\n",
    "ans = []\n",
    "for i in ss.keys():\n",
    "    if ss[i] == n_ma: # 出現回数が最大と一致\n",
    "        ans.append(i)\n",
    "\n",
    "ans.sort()\n",
    "\n",
    "for i in range(len(ans)):\n",
    "    print(ans[i])"
   ]
  }
 ],
 "metadata": {
  "kernelspec": {
   "display_name": "Python 3",
   "language": "python",
   "name": "python3"
  },
  "language_info": {
   "codemirror_mode": {
    "name": "ipython",
    "version": 3
   },
   "file_extension": ".py",
   "mimetype": "text/x-python",
   "name": "python",
   "nbconvert_exporter": "python",
   "pygments_lexer": "ipython3",
   "version": "3.6.8"
  }
 },
 "nbformat": 4,
 "nbformat_minor": 2
}
