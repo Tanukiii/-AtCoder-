{
 "cells": [
  {
   "cell_type": "markdown",
   "metadata": {},
   "source": [
    "# 157"
   ]
  },
  {
   "cell_type": "markdown",
   "metadata": {},
   "source": [
    "# A - Duplex Printing"
   ]
  },
  {
   "cell_type": "markdown",
   "metadata": {},
   "source": [
    "高橋君は、全 \n",
    "N\n",
    " ページから成る書類を両面印刷します。両面印刷では、\n",
    "1\n",
    " 枚の紙に \n",
    "2\n",
    " ページ分のデータを印刷することが出来ます。\n",
    "\n",
    "最小で何枚の紙が必要か求めてください。"
   ]
  },
  {
   "cell_type": "code",
   "execution_count": 5,
   "metadata": {},
   "outputs": [
    {
     "name": "stdout",
     "output_type": "stream",
     "text": [
      "3\n",
      "2\n"
     ]
    }
   ],
   "source": [
    "N = int(input())\n",
    "\n",
    "if N % 2 ==0:\n",
    "    print(N//2)\n",
    "else:\n",
    "    print(1+(N//2))"
   ]
  },
  {
   "cell_type": "markdown",
   "metadata": {},
   "source": [
    "# B - Bingo"
   ]
  },
  {
   "cell_type": "markdown",
   "metadata": {},
   "source": [
    "3\n",
    "×\n",
    "3\n",
    "  のサイズのビンゴカードがあります。上から \n",
    "i\n",
    " 行目、左から \n",
    "j\n",
    " 列目の数は \n",
    "A\n",
    "i\n",
    ",\n",
    "j\n",
    " です。\n",
    "\n",
    "続けて、 \n",
    "N\n",
    " 個の数 \n",
    "b\n",
    "1\n",
    ",\n",
    "b\n",
    "2\n",
    ",\n",
    "⋯\n",
    ",\n",
    "b\n",
    "N\n",
    " が選ばれます。選ばれた数がビンゴカードの中にあった場合、ビンゴカードのその数に印を付けます。\n",
    "\n",
    "N\n",
    " 個の数字が選ばれた時点でビンゴが達成されているか、則ち、縦・横・斜めのいずれか \n",
    "1\n",
    " 列に並んだ \n",
    "3\n",
    " つの数の組であって、全てに印の付いているものが存在するかどうかを判定してください。"
   ]
  },
  {
   "cell_type": "code",
   "execution_count": 6,
   "metadata": {},
   "outputs": [
    {
     "name": "stdout",
     "output_type": "stream",
     "text": [
      "84 97 66 \n",
      "79 89 11 \n",
      "61 59 7 \n",
      "7 \n",
      "89 \n",
      "7 \n",
      "87 \n",
      "79 \n",
      "24 \n",
      "84\n",
      "30\n",
      "Yes\n"
     ]
    }
   ],
   "source": [
    "a = [list(map(int, input().split())) for _ in range(3)] # リストを内包\n",
    "n = int(input())\n",
    "b = [int(input()) for _ in range(n)]\n",
    "\n",
    "\n",
    "\n",
    "# a = [[A1,1, A1,2, A1,3], [A2,1, A2,2, A2,3], [A3,1, A3,2, A3,3]]\n",
    "\n",
    "\n",
    "for i in range(3):\n",
    "    for j in range(3):\n",
    "        for k in range(n):\n",
    "            if a[i][j] == b[k]:\n",
    "                a[i][j] = 0\n",
    "\n",
    "ans = \"No\"\n",
    "\n",
    "for i in range(3):\n",
    "    if a[i][0] + a[i][1] + a[i][2] == 0:\n",
    "        ans = \"Yes\"\n",
    "    if a[0][i] + a[1][i] + a[2][i] == 0:\n",
    "        ans = \"Yes\"\n",
    "if a[0][0] + a[1][1] + a[2][2] == 0:\n",
    "    ans = \"Yes\"\n",
    "if a[0][2] + a[1][1] + a[2][0] == 0:\n",
    "    ans = \"Yes\"\n",
    "print(ans)"
   ]
  },
  {
   "cell_type": "markdown",
   "metadata": {},
   "source": [
    "# C - Guess The Number"
   ]
  },
  {
   "cell_type": "markdown",
   "metadata": {},
   "source": [
    "以下の条件を満たす \n",
    "0\n",
    " 以上の整数が存在すれば、それらのうち最小のものを出力してください。そのような整数が存在しなければ、 -1と出力してください。\n",
    "\n",
    "- 十進表記で丁度 \n",
    "N\n",
    " 桁である。(\n",
    "0\n",
    " は \n",
    "1\n",
    " 桁の整数とする。その他の整数については、先頭に \n",
    "0\n",
    " をつけた表記は認めない。)\n",
    "- 左から数えて \n",
    "s\n",
    "i\n",
    " 桁目は \n",
    "c\n",
    "i\n",
    " である。\n",
    "(\n",
    "i\n",
    "=\n",
    "1\n",
    ",\n",
    "2\n",
    ",\n",
    "⋯\n",
    ",\n",
    "M\n",
    ")"
   ]
  },
  {
   "cell_type": "code",
   "execution_count": 7,
   "metadata": {},
   "outputs": [
    {
     "name": "stdout",
     "output_type": "stream",
     "text": [
      "3 2\n",
      "2 1\n",
      "2 3\n",
      "-1\n",
      "130\n"
     ]
    },
    {
     "name": "stderr",
     "output_type": "stream",
     "text": [
      "ERROR:root:Invalid alias: The name clear can't be aliased because it is another magic command.\n",
      "ERROR:root:Invalid alias: The name more can't be aliased because it is another magic command.\n",
      "ERROR:root:Invalid alias: The name less can't be aliased because it is another magic command.\n",
      "ERROR:root:Invalid alias: The name man can't be aliased because it is another magic command.\n"
     ]
    }
   ],
   "source": [
    "N, M = map(int, input().split())\n",
    "\n",
    "t = [-1] * N       #　あらかじめ−１のリストを作成\n",
    "for _ in range(M):\n",
    "    s, c = map(int, input().split())\n",
    "    s -= 1 #１桁目 = 0, つまり−１ずつずれる\n",
    "    \n",
    "    #　同じ位に、異なる数が入力されたら -1\n",
    "    if t[s] != -1 and t[s] != c:\n",
    "        print(-1)\n",
    "        exit()\n",
    "        \n",
    "    t[s] = c\n",
    "\n",
    "\n",
    "    \n",
    "if N != 1:\n",
    "    if t[0] == 0:\n",
    "        print(-1)\n",
    "        exit()\n",
    "\n",
    "    if t[0] == -1:\n",
    "        t[0] = 1\n",
    "\n",
    "    for i in range(1, N):\n",
    "        if t[i] == -1:\n",
    "            t[i] = 0\n",
    "else:\n",
    "    if t[0] == -1:\n",
    "        t[0] = 0\n",
    "\n",
    "print(''.join(map(str, t)))"
   ]
  },
  {
   "cell_type": "code",
   "execution_count": 3,
   "metadata": {},
   "outputs": [
    {
     "name": "stdout",
     "output_type": "stream",
     "text": [
      "[-1, -1, -1]\n",
      "-1-1-1\n"
     ]
    }
   ],
   "source": [
    "# 最後の変換\n",
    "\n",
    "t = [-1] * 3\n",
    "print(t)\n",
    "print(''.join(map(str, t)))"
   ]
  }
 ],
 "metadata": {
  "kernelspec": {
   "display_name": "Python 3",
   "language": "python",
   "name": "python3"
  },
  "language_info": {
   "codemirror_mode": {
    "name": "ipython",
    "version": 3
   },
   "file_extension": ".py",
   "mimetype": "text/x-python",
   "name": "python",
   "nbconvert_exporter": "python",
   "pygments_lexer": "ipython3",
   "version": "3.6.8"
  }
 },
 "nbformat": 4,
 "nbformat_minor": 2
}
