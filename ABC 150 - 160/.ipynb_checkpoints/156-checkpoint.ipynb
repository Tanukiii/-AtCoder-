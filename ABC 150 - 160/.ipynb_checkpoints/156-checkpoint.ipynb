{
 "cells": [
  {
   "cell_type": "markdown",
   "metadata": {},
   "source": [
    "# 156"
   ]
  },
  {
   "cell_type": "markdown",
   "metadata": {},
   "source": [
    "# A - Beginner"
   ]
  },
  {
   "cell_type": "markdown",
   "metadata": {},
   "source": [
    "高橋君はプログラミングコンテストサイト「ButCoder」の会員です。\n",
    "\n",
    "ButCoder の会員には \n",
    "2\n",
    " つのレーティング 内部レーティング と 表示レーティング が割り当てられています。\n",
    "\n",
    "表示レーティングは、その会員のコンテスト参加回数が \n",
    "10\n",
    " 以上のときは内部レーティングに等しく、そうでないときは、会員のコンテスト参加回数を \n",
    "K\n",
    " として、内部レーティングから \n",
    "100\n",
    "×\n",
    "(\n",
    "10\n",
    "−\n",
    "K\n",
    ")\n",
    " を引いたものになります。\n",
    "\n",
    "高橋君のコンテスト参加回数が \n",
    "N\n",
    " で表示レーティングが \n",
    "R\n",
    " であるとき、高橋君の内部レーティングを求めてください。"
   ]
  },
  {
   "cell_type": "code",
   "execution_count": 6,
   "metadata": {},
   "outputs": [
    {
     "name": "stdout",
     "output_type": "stream",
     "text": [
      "2 2919\n",
      "3719\n"
     ]
    }
   ],
   "source": [
    "N, R = map(int, input().split())\n",
    "\n",
    "if N >= 10:\n",
    "    print(R)\n",
    "else:\n",
    "    print(R + 100*(10 - N))"
   ]
  },
  {
   "cell_type": "markdown",
   "metadata": {},
   "source": [
    "# B - Digits "
   ]
  },
  {
   "cell_type": "markdown",
   "metadata": {},
   "source": [
    "整数 \n",
    "N\n",
    " を \n",
    "K\n",
    " 進数で表したとき、何桁になるかを求めてください。"
   ]
  },
  {
   "cell_type": "code",
   "execution_count": 9,
   "metadata": {},
   "outputs": [
    {
     "name": "stdout",
     "output_type": "stream",
     "text": [
      "20 9\n",
      "2\n"
     ]
    }
   ],
   "source": [
    "N, K = map(int, input().split())\n",
    "ans = 0\n",
    "\n",
    "while N > 0:\n",
    "    N = N // K\n",
    "    ans += 1\n",
    "\n",
    "print(ans)"
   ]
  },
  {
   "cell_type": "markdown",
   "metadata": {},
   "source": [
    "整数N が0になるまでの間に K で割ることのできる回数が答えとなります。\n",
    "小数点以下は切り捨てで割ります。\n",
    "\n",
    "例えば、1042を10進数で表したとき、10で4回割ることができるため、4桁となります。2進数や4進数など、ほかのものも同様です。"
   ]
  },
  {
   "cell_type": "markdown",
   "metadata": {},
   "source": [
    "# C - Rally"
   ]
  },
  {
   "cell_type": "markdown",
   "metadata": {},
   "source": [
    "数直線上に \n",
    "N\n",
    " 人の人が住んでいます。\n",
    "\n",
    "i\n",
    " 番目の人が住んでいるのは座標 \n",
    "X\n",
    "i\n",
    " です。\n",
    "\n",
    "あなたは \n",
    "N\n",
    " 人全員が参加する集会を開くことを考えています。\n",
    "\n",
    "集会は数直線上の任意の 整数値の座標 で開くことができ、座標 \n",
    "P\n",
    " で集会を開くとき、\n",
    "i\n",
    " 番目の人は集会に参加するために \n",
    "(\n",
    "X\n",
    "i\n",
    "−\n",
    "P\n",
    ")\n",
    "2\n",
    " の体力を消費します。\n",
    "\n",
    "N\n",
    " 人が消費する体力の総和としてありえる値の最小値を求めてください。\n",
    "\n"
   ]
  },
  {
   "cell_type": "code",
   "execution_count": 13,
   "metadata": {},
   "outputs": [
    {
     "name": "stdout",
     "output_type": "stream",
     "text": [
      "2\n",
      "1 4\n",
      "5\n"
     ]
    }
   ],
   "source": [
    "N = int(input())\n",
    "Xi = list(map(int, input().split()))\n",
    "\n",
    "\n",
    "mi = min(Xi)\n",
    "ma = max(Xi)\n",
    "ans = 1000000  # ansの初期値には適当に大きい数字を入れる\n",
    "\n",
    "for i in range(mi, ma + 1):\n",
    "    num = 0\n",
    "    for j in range(N):\n",
    "        num += (Xi[j] - i) ** 2\n",
    "    ans = min(ans, num)\n",
    "\n",
    "print(ans)"
   ]
  },
  {
   "cell_type": "markdown",
   "metadata": {},
   "source": [
    "Xiは、「1〜100」までの整数なので、この範囲のどこかで集会を開くことになります。\n",
    "\n",
    "（この範囲以外では、体力の総和が大きくなることが予測できるかと思います）\n",
    "\n",
    "上記では、Xiの最小値と最大値をとってしまいましたが、取らなくても間に合いますね。\n",
    "\n",
    "for文を用いて、Pを仮定し、すべての (Xi−P)2 を足し合わせ、「ans」と比較して小さい方を「ans」に入れるという処理を繰り返します。"
   ]
  }
 ],
 "metadata": {
  "kernelspec": {
   "display_name": "Python 3",
   "language": "python",
   "name": "python3"
  },
  "language_info": {
   "codemirror_mode": {
    "name": "ipython",
    "version": 3
   },
   "file_extension": ".py",
   "mimetype": "text/x-python",
   "name": "python",
   "nbconvert_exporter": "python",
   "pygments_lexer": "ipython3",
   "version": "3.6.8"
  }
 },
 "nbformat": 4,
 "nbformat_minor": 2
}
