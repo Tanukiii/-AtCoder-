{
 "cells": [
  {
   "cell_type": "markdown",
   "metadata": {},
   "source": [
    "# A-Serval vs Monster"
   ]
  },
  {
   "cell_type": "markdown",
   "metadata": {},
   "source": [
    "サーバルはモンスターと戦っています。\n",
    "\n",
    "モンスターの体力は \n",
    "H\n",
    " です。\n",
    "\n",
    "サーバルが攻撃を \n",
    "1\n",
    " 回行うとモンスターの体力を \n",
    "A\n",
    " 減らすことができます。 攻撃以外の方法でモンスターの体力を減らすことはできません。\n",
    "\n",
    "モンスターの体力を \n",
    "0\n",
    " 以下にすればサーバルの勝ちです。\n",
    "\n",
    "サーバルがモンスターに勝つために必要な攻撃の回数を求めてください。"
   ]
  },
  {
   "cell_type": "code",
   "execution_count": 11,
   "metadata": {},
   "outputs": [
    {
     "name": "stdout",
     "output_type": "stream",
     "text": [
      "122 1222 \n",
      "1\n"
     ]
    }
   ],
   "source": [
    "H, A = map(int, input().split())\n",
    "\n",
    "ans = H//A\n",
    "\n",
    "if H % A == 0:\n",
    "    print(ans)\n",
    "else: \n",
    "    print(ans+ 1)"
   ]
  },
  {
   "cell_type": "markdown",
   "metadata": {},
   "source": [
    "# B-Common Raccoon vs Monster"
   ]
  },
  {
   "cell_type": "markdown",
   "metadata": {},
   "source": [
    "アライグマはモンスターと戦っています。\n",
    "\n",
    "モンスターの体力は \n",
    "H\n",
    " です。\n",
    "\n",
    "アライグマは \n",
    "N\n",
    " 種類の必殺技を使うことができ、\n",
    "i\n",
    " 番目の必殺技を使うとモンスターの体力を \n",
    "A\n",
    "i\n",
    " 減らすことができます。 必殺技を使う以外の方法でモンスターの体力を減らすことはできません。\n",
    "\n",
    "モンスターの体力を \n",
    "0\n",
    " 以下にすればアライグマの勝ちです。\n",
    "\n",
    "アライグマが同じ必殺技を \n",
    "2\n",
    " 度以上使うことなくモンスターに勝つことができるなら Yes を、できないなら No を出力してください。"
   ]
  },
  {
   "cell_type": "code",
   "execution_count": 27,
   "metadata": {},
   "outputs": [
    {
     "name": "stdout",
     "output_type": "stream",
     "text": [
      "210 5\n",
      "31 41 59 26 53\n",
      "Yes\n"
     ]
    }
   ],
   "source": [
    "H, N = map(int, input().split())\n",
    "S = sum(list(map(int, input().split())))   # 最初のうちに必殺技の攻撃力Aの合計値を出しておく\n",
    "\n",
    "if H <= S:\n",
    "    print(\"Yes\")\n",
    "else:\n",
    "    print(\"No\")\n",
    "\n",
    "\n",
    "\n",
    "# でも Ok...だけど、上の方がスッキリ\n",
    "\n",
    "# H, N = map(int, input().split())\n",
    "# A = list(map(int, input().split()))\n",
    "# A.sort(reverse=True)\n",
    "\n",
    "# damages = 0\n",
    "\n",
    "# for i in A:\n",
    "#     damages+=i\n",
    "#     if H - damages<=0:\n",
    "#         print(\"Yes\")\n",
    "#         break\n",
    "    \n",
    "# if H - damages >0:\n",
    "#     print(\"No\")"
   ]
  },
  {
   "cell_type": "markdown",
   "metadata": {},
   "source": [
    "# C - Fennec vs Monster "
   ]
  },
  {
   "cell_type": "markdown",
   "metadata": {},
   "source": [
    "フェネックは \n",
    "N\n",
    " 体のモンスターと戦っています。\n",
    "\n",
    "i\n",
    " 番目のモンスターの体力は \n",
    "H\n",
    "i\n",
    " です。\n",
    "\n",
    "フェネックは次の \n",
    "2\n",
    " 種類の行動を行うことができます。\n",
    "\n",
    "攻撃：モンスターを \n",
    "1\n",
    " 体選んで攻撃することで、そのモンスターの体力を \n",
    "1\n",
    " 減らす\n",
    "必殺技：モンスターを \n",
    "1\n",
    " 体選んで必殺技を使うことで、そのモンスターの体力を \n",
    "0\n",
    " にする\n",
    "攻撃と必殺技以外の方法でモンスターの体力を減らすことはできません。\n",
    "\n",
    "全てのモンスターの体力を \n",
    "0\n",
    " 以下にすればフェネックの勝ちです。\n",
    "\n",
    "フェネックが \n",
    "K\n",
    " 回まで必殺技を使えるとき、モンスターに勝つまでに行う攻撃の回数 (必殺技は数えません) の最小値を求めてください。\n",
    "\n"
   ]
  },
  {
   "cell_type": "code",
   "execution_count": 14,
   "metadata": {
    "scrolled": true
   },
   "outputs": [
    {
     "name": "stdout",
     "output_type": "stream",
     "text": [
      "3 1\n",
      "1 2 3\n",
      "3\n"
     ]
    }
   ],
   "source": [
    "N, K = map(int, input().split())\n",
    "H = list(map(int, input().split()))  \n",
    "\n",
    "H_sort = sorted(H, reverse = True)  # 最小値を求めるために、必殺技は体力が大きいモンスターに使う\n",
    "ans = sum(H_sort[K:])\n",
    "\n",
    "print(ans)\n",
    "# H = [1, 2, 3], H_sort =[3,2, 1], H_sort[1:] = [2, 1]"
   ]
  }
 ],
 "metadata": {
  "kernelspec": {
   "display_name": "Python 3",
   "language": "python",
   "name": "python3"
  },
  "language_info": {
   "codemirror_mode": {
    "name": "ipython",
    "version": 3
   },
   "file_extension": ".py",
   "mimetype": "text/x-python",
   "name": "python",
   "nbconvert_exporter": "python",
   "pygments_lexer": "ipython3",
   "version": "3.6.8"
  }
 },
 "nbformat": 4,
 "nbformat_minor": 2
}
