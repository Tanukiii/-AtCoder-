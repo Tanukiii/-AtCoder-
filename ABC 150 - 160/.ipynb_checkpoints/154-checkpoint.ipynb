{
 "cells": [
  {
   "cell_type": "markdown",
   "metadata": {},
   "source": [
    "# A - Remaining Balls"
   ]
  },
  {
   "cell_type": "markdown",
   "metadata": {},
   "source": [
    "文字列 \n",
    "S\n",
    " の書かれたボールが \n",
    "A\n",
    " 個、文字列 \n",
    "T\n",
    " の書かれたボールが \n",
    "B\n",
    " 個あります。\n",
    "高橋君は、文字列 \n",
    "U\n",
    " の書かれたボールを \n",
    "1\n",
    " 個選んで捨てました。\n",
    "文字列 \n",
    "S\n",
    ",\n",
    "T\n",
    " の書かれたボールがそれぞれ何個残っているか求めてください。"
   ]
  },
  {
   "cell_type": "code",
   "execution_count": 4,
   "metadata": {},
   "outputs": [
    {
     "name": "stdout",
     "output_type": "stream",
     "text": [
      "r b\n",
      "3 4\n",
      "r\n",
      "2 4\n"
     ]
    }
   ],
   "source": [
    "S, T = map(str, input().split())\n",
    "A, B = map(int, input().split())\n",
    "\n",
    "U = str(input())\n",
    "\n",
    "if S == U:\n",
    "    A -=1\n",
    "elif T == U:\n",
    "    B -=1\n",
    "    \n",
    "print(A,B)"
   ]
  },
  {
   "cell_type": "markdown",
   "metadata": {},
   "source": [
    "# B - I miss you..."
   ]
  },
  {
   "cell_type": "code",
   "execution_count": 7,
   "metadata": {},
   "outputs": [
    {
     "name": "stdout",
     "output_type": "stream",
     "text": [
      "sdf\n",
      "xxx\n"
     ]
    }
   ],
   "source": [
    "S = len(input())\n",
    "print(\"x\" * S)"
   ]
  }
 ],
 "metadata": {
  "kernelspec": {
   "display_name": "Python 3",
   "language": "python",
   "name": "python3"
  },
  "language_info": {
   "codemirror_mode": {
    "name": "ipython",
    "version": 3
   },
   "file_extension": ".py",
   "mimetype": "text/x-python",
   "name": "python",
   "nbconvert_exporter": "python",
   "pygments_lexer": "ipython3",
   "version": "3.6.8"
  }
 },
 "nbformat": 4,
 "nbformat_minor": 2
}
