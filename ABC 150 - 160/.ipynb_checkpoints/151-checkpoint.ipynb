{
 "cells": [
  {
   "cell_type": "markdown",
   "metadata": {},
   "source": [
    "# A Next Alphabet"
   ]
  },
  {
   "cell_type": "markdown",
   "metadata": {},
   "source": [
    "z でない英小文字 \n",
    "C\n",
    " が与えられます。アルファベット順で \n",
    "C\n",
    " の次の文字を出力してください。"
   ]
  },
  {
   "cell_type": "code",
   "execution_count": 1,
   "metadata": {},
   "outputs": [
    {
     "name": "stdout",
     "output_type": "stream",
     "text": [
      "e\n",
      "e\n"
     ]
    }
   ],
   "source": [
    "C = input()\n",
    "ans = chr(ord(C)+1)\n",
    "\n",
    "print(ans)\n",
    "\n",
    "#print(ord('a'))\n",
    "# 97\n",
    "\n",
    "#print(chr(97))\n",
    "# a"
   ]
  },
  {
   "cell_type": "markdown",
   "metadata": {},
   "source": [
    "# B Achieve the Goal"
   ]
  },
  {
   "cell_type": "markdown",
   "metadata": {},
   "source": [
    "高橋君は \n",
    "N\n",
    " 科目のテストを受けます。各テストは \n",
    "K\n",
    " 点満点であり、点数はそれぞれ \n",
    "0\n",
    " 以上の整数です。\n",
    "\n",
    "高橋君は \n",
    "N\n",
    "−\n",
    "1\n",
    " 科目のテストを既に受けており、\n",
    "i\n",
    " 番目の科目のテストの点数は \n",
    "A\n",
    "i\n",
    " 点でした。\n",
    "\n",
    "高橋君の目標は、\n",
    "N\n",
    " 科目のテストの平均点を \n",
    "M\n",
    " 点以上にすることです。\n",
    "\n",
    "高橋君が目標を達成するためには、最後のテストで最低何点取る必要があるか出力してください。\n",
    "\n",
    "達成不可能である場合は、代わりに -1 を出力してください。"
   ]
  },
  {
   "cell_type": "code",
   "execution_count": 5,
   "metadata": {},
   "outputs": [
    {
     "name": "stdout",
     "output_type": "stream",
     "text": [
      "3 10 4\n",
      "4 9\n",
      "0\n"
     ]
    }
   ],
   "source": [
    "N, K, M = map(int, input().split())\n",
    "a = list(map(int, input().split()))\n",
    "\n",
    "sum_a = sum(a)\n",
    "ans = (M * N) - sum_a\n",
    "\n",
    "if ans > K:  # 満点Kよりとる（不可能）\n",
    "    ans = -1\n",
    "elif ans < 0: # 既に達成\n",
    "    ans = 0\n",
    "\n",
    "print(ans)"
   ]
  },
  {
   "cell_type": "markdown",
   "metadata": {},
   "source": [
    "# C Welcome to AtCoder"
   ]
  },
  {
   "cell_type": "markdown",
   "metadata": {},
   "source": [
    "高橋君は AtCoder のコンテストに参加しています。\n",
    "\n",
    "このコンテストでは、 \n",
    "N\n",
    " 問の問題が出題されます。\n",
    "\n",
    "高橋君はコンテスト中に \n",
    "M\n",
    " 回の提出を行いました。\n",
    "\n",
    "i\n",
    " 回目の提出は \n",
    "p\n",
    "i\n",
    " 番目の問題への提出であり、結果は \n",
    "S\n",
    "i\n",
    " (AC または WA) でした。\n",
    "\n",
    "高橋君の正答数は、AC を \n",
    "1\n",
    " 回以上出した問題の数です。\n",
    "\n",
    "高橋君のペナルティ数は、高橋君が AC を \n",
    "1\n",
    " 回以上出した各問題において、初めて AC を出すまでに出した WA の数の総和です。\n",
    "\n",
    "高橋君の正答数とペナルティ数を答えてください。"
   ]
  },
  {
   "cell_type": "code",
   "execution_count": 2,
   "metadata": {},
   "outputs": [
    {
     "name": "stdout",
     "output_type": "stream",
     "text": [
      "2 5\n",
      "1 WA\n",
      "1 AC \n",
      "2 WA \n",
      "2 AC \n",
      "2 WA\n",
      "['AC', 'AC']\n",
      "2 2\n"
     ]
    }
   ],
   "source": [
    "N, M= map(int, input().split())\n",
    "ps = [list(map(str,input().split())) for _ in range(M)] #　提出した問題と結果\n",
    "\n",
    "str_l = [\"WA\"]*N  # 全てがWAのリスト\n",
    "int_l = [0]*N     # 0のリスト\n",
    "\n",
    "num = 0 # WAを出した回数(AC」を出す前のペナルティ回数)\n",
    "ac = 0  # ACの数\n",
    "\n",
    "# ps を用いて、どの問題が「AC」したのか、まだ「AC」していない問題を何回「WA」したのかを最初のfor文で調べていきます\n",
    "\n",
    "for pp, s in ps:\n",
    "    p = int(pp)-1  #ppは１(問)から始まる\n",
    "    if s == \"AC\":\n",
    "        str_l[p] = \"AC\" # pp番目のWAをACに変える\n",
    "    else:\n",
    "        if str_l[p] != \"AC\":\n",
    "            int_l[p] += 1\n",
    "            \n",
    "print(str_l) # ['AC', 'AC']\n",
    "            \n",
    "# 2つ目のfor文で、「AC」を出した問題の回数（ac）と「AC」を出す前のペナルティ回数（num）を計算して結果を出力します\n",
    "\n",
    "for i in range(N):\n",
    "    if str_l[i] == \"AC\":\n",
    "        num += int_l[i]\n",
    "        ac += 1\n",
    "\n",
    "print(ac,num) # 2, 2: 正答数は 2であり、ペナルティ数も 2\n",
    " "
   ]
  }
 ],
 "metadata": {
  "kernelspec": {
   "display_name": "Python 3",
   "language": "python",
   "name": "python3"
  },
  "language_info": {
   "codemirror_mode": {
    "name": "ipython",
    "version": 3
   },
   "file_extension": ".py",
   "mimetype": "text/x-python",
   "name": "python",
   "nbconvert_exporter": "python",
   "pygments_lexer": "ipython3",
   "version": "3.6.8"
  }
 },
 "nbformat": 4,
 "nbformat_minor": 2
}
