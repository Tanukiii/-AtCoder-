{
 "cells": [
  {
   "cell_type": "markdown",
   "metadata": {},
   "source": [
    "# A"
   ]
  },
  {
   "cell_type": "markdown",
   "metadata": {},
   "source": [
    "高橋君は \n",
    "500\n",
    " 円玉を \n",
    "K\n",
    " 枚持っています。 これらの総額が \n",
    "X\n",
    " 円以上である場合は Yes を、そうでない場合は No を出力してください。"
   ]
  },
  {
   "cell_type": "code",
   "execution_count": 2,
   "metadata": {},
   "outputs": [
    {
     "name": "stdout",
     "output_type": "stream",
     "text": [
      "23 1222\n",
      "Yes\n"
     ]
    }
   ],
   "source": [
    "K, X = map(int, input().split())\n",
    "\n",
    "if K * 500 >= X:\n",
    "    print(\"Yes\")\n",
    "else:\n",
    "    print(\"No\")"
   ]
  },
  {
   "cell_type": "markdown",
   "metadata": {},
   "source": [
    "# B"
   ]
  },
  {
   "cell_type": "markdown",
   "metadata": {},
   "source": [
    "英大文字のみからなる長さ \n",
    "N\n",
    " の文字列 \n",
    "S\n",
    " があります。\n",
    "\n",
    "S\n",
    " の連続する部分列 (入出力例をご覧ください) として ABC がいくつ含まれるかを求めてください。"
   ]
  },
  {
   "cell_type": "code",
   "execution_count": 6,
   "metadata": {},
   "outputs": [
    {
     "name": "stdout",
     "output_type": "stream",
     "text": [
      "3\n",
      "ZABCDBABCQ\n",
      "2\n"
     ]
    }
   ],
   "source": [
    "N = int(input())\n",
    "S = input()\n",
    "\n",
    "print(S.count(\"ABC\"))"
   ]
  },
  {
   "cell_type": "markdown",
   "metadata": {},
   "source": [
    "# C"
   ]
  },
  {
   "cell_type": "markdown",
   "metadata": {},
   "source": [
    "大きさ \n",
    "N\n",
    " の順列 (\n",
    "(\n",
    "1\n",
    ", \n",
    "2\n",
    ", \n",
    ".\n",
    ".\n",
    ".\n",
    ", \n",
    "N\n",
    ")\n",
    " を並び替えてできる数列) \n",
    "P\n",
    ",\n",
    "Q\n",
    "があります。\n",
    "\n",
    "大きさ \n",
    "N\n",
    " の順列は \n",
    "N\n",
    "!\n",
    " 通り考えられます。このうち、\n",
    "P\n",
    " が辞書順で \n",
    "a\n",
    " 番目に小さく、\n",
    "Q\n",
    " が辞書順で \n",
    "b\n",
    " 番目に小さいとして、\n",
    "|\n",
    "a\n",
    "−\n",
    "b\n",
    "|\n",
    " を求めてください。"
   ]
  },
  {
   "cell_type": "code",
   "execution_count": 16,
   "metadata": {},
   "outputs": [
    {
     "name": "stdout",
     "output_type": "stream",
     "text": [
      "3\n",
      "1 2 3\n",
      "3 2 1\n",
      "5\n"
     ]
    }
   ],
   "source": [
    "import itertools\n",
    "\n",
    "N = int(input())\n",
    "\n",
    "P = tuple(map(int, input().split()))\n",
    "Q = tuple(map(int, input().split()))\n",
    "\n",
    "permutation_list = list(itertools.permutations(range(1, N+1))) # N個の順列を計算\n",
    "\n",
    "print(abs(permutation_list.index(P)-permutation_list.index(Q))) # P番目の組み合わせ - Q番目の組み合わせ\n",
    "\n",
    "# list(itertools.permutations(range(1,4)))\n",
    "# [(1, 2, 3), (1, 3, 2), (2, 1, 3), (2, 3, 1), (3, 1, 2), (3, 2, 1)]"
   ]
  }
 ],
 "metadata": {
  "kernelspec": {
   "display_name": "Python 3",
   "language": "python",
   "name": "python3"
  },
  "language_info": {
   "codemirror_mode": {
    "name": "ipython",
    "version": 3
   },
   "file_extension": ".py",
   "mimetype": "text/x-python",
   "name": "python",
   "nbconvert_exporter": "python",
   "pygments_lexer": "ipython3",
   "version": "3.6.8"
  }
 },
 "nbformat": 4,
 "nbformat_minor": 2
}
