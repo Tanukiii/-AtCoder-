{
 "cells": [
  {
   "cell_type": "markdown",
   "metadata": {},
   "source": [
    "# A AC or WA"
   ]
  },
  {
   "cell_type": "markdown",
   "metadata": {},
   "source": [
    "高橋君は、プログラミングコンテスト AXC001 に参加しており、問題 A にコードを提出しました。\n",
    "この問題には \n",
    "N\n",
    " 個のテストケースがあり、すべてのテストケースに正解した場合のみ提出は AC となります。\n",
    "高橋君の提出は、\n",
    "N\n",
    " 個のテストケースのうち \n",
    "M\n",
    " 個のテストケースに正解しました。\n",
    "高橋君の提出が AC となるか判定してください。"
   ]
  },
  {
   "cell_type": "code",
   "execution_count": 1,
   "metadata": {},
   "outputs": [
    {
     "name": "stdout",
     "output_type": "stream",
     "text": [
      "2 3\n"
     ]
    }
   ],
   "source": [
    "N, M = map(int, input().split())\n",
    "\n",
    "if N == M:\n",
    "    print(\"Yes\")\n",
    "else:\n",
    "    print(\"No\")"
   ]
  },
  {
   "cell_type": "markdown",
   "metadata": {},
   "source": [
    "# B Comparing Strings "
   ]
  },
  {
   "cell_type": "markdown",
   "metadata": {},
   "source": [
    "1\n",
    "  桁の正整数 \n",
    "a\n",
    " ,\n",
    "b\n",
    " が与えられます。整数 \n",
    "a\n",
    " を \n",
    "b\n",
    " 回繰り返してできる文字列と 整数 \n",
    "b\n",
    " を \n",
    "a\n",
    " 回繰り返してできる文字列のうち、辞書順で小さい方を答えてください。"
   ]
  },
  {
   "cell_type": "code",
   "execution_count": 38,
   "metadata": {},
   "outputs": [
    {
     "name": "stdout",
     "output_type": "stream",
     "text": [
      "12 3\n",
      "333333333333"
     ]
    }
   ],
   "source": [
    "a, b = map(int, input().split())\n",
    "\n",
    "for i in range(max(a,b)):\n",
    "    print(min(a,b), end=\"\")\n",
    "    \n",
    "    \n",
    "# endをつけると、出力した後の文字列を指定することができます。\n",
    "# 何も指定しない場合は、改行しない処理を行います。\n",
    "\n",
    "#　でもOk\n",
    "# if a > b:\n",
    "#     print(str(b)*a, end=\"\")\n",
    "# else:\n",
    "#     print(str(a)*b, end=\"\")"
   ]
  },
  {
   "cell_type": "markdown",
   "metadata": {},
   "source": [
    "# C Low Elements"
   ]
  },
  {
   "cell_type": "markdown",
   "metadata": {},
   "source": [
    "1\n",
    ",\n",
    "…\n",
    ",\n",
    "N\n",
    "  の順列 \n",
    "P\n",
    "1\n",
    ",\n",
    "…\n",
    ",\n",
    "P\n",
    "N\n",
    " が与えられます。\n",
    "次の条件を満たす整数 \n",
    "i\n",
    "(\n",
    "1\n",
    "≤\n",
    "i\n",
    "≤\n",
    "N\n",
    ")\n",
    " の個数を数えてください。\n",
    "\n",
    "任意の整数 \n",
    "j\n",
    "(\n",
    "1\n",
    "≤\n",
    "j\n",
    "≤\n",
    "i\n",
    ")\n",
    " に対して、 \n",
    "P\n",
    "i\n",
    "≤\n",
    "P\n",
    "j\n"
   ]
  },
  {
   "cell_type": "code",
   "execution_count": 44,
   "metadata": {},
   "outputs": [
    {
     "name": "stdout",
     "output_type": "stream",
     "text": [
      "3\n",
      "3 2 1\n",
      "3\n"
     ]
    }
   ],
   "source": [
    "N = int(input())\n",
    "p = list(map(int, input().split()))\n",
    "\n",
    "num = p[0]   #　最初の要素\n",
    "cnt = 1      #　少なくとも最初の数字はカウントされる\n",
    "\n",
    "for i in range(1, N): # 1の意味は二つ目から要素から\n",
    "    if num >= p[i]:   # 最初の num は一つ目の要素\n",
    "        cnt += 1\n",
    "        num = p[i] # 次に比べられるようにするために、現在の要素を　num に代入\n",
    "\n",
    "print(cnt)"
   ]
  }
 ],
 "metadata": {
  "kernelspec": {
   "display_name": "Python 3",
   "language": "python",
   "name": "python3"
  },
  "language_info": {
   "codemirror_mode": {
    "name": "ipython",
    "version": 3
   },
   "file_extension": ".py",
   "mimetype": "text/x-python",
   "name": "python",
   "nbconvert_exporter": "python",
   "pygments_lexer": "ipython3",
   "version": "3.6.8"
  }
 },
 "nbformat": 4,
 "nbformat_minor": 2
}
