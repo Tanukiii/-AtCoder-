{
 "cells": [
  {
   "cell_type": "markdown",
   "metadata": {},
   "source": [
    "整数 \n",
    "n\n",
    " に対して、 \n",
    "n\n",
    " を十進法で表したときの各桁の和を \n",
    "S\n",
    "(\n",
    "n\n",
    ")\n",
    " で表すことにします。 例えば、\n",
    "S\n",
    "(\n",
    "123\n",
    ")\n",
    "=\n",
    "1\n",
    "+\n",
    "2\n",
    "+\n",
    "3\n",
    "=\n",
    "6\n",
    " です。\n",
    "\n",
    "2\n",
    " つの \n",
    "3\n",
    " 桁の整数 \n",
    "A\n",
    ",\n",
    "B\n",
    " が与えられます。\n",
    "S\n",
    "(\n",
    "A\n",
    ")\n",
    " と \n",
    "S\n",
    "(\n",
    "B\n",
    ")\n",
    " のうち大きい方の値を求めてください"
   ]
  },
  {
   "cell_type": "code",
   "execution_count": 22,
   "metadata": {},
   "outputs": [
    {
     "name": "stdout",
     "output_type": "stream",
     "text": [
      "111 222\n",
      "6\n"
     ]
    }
   ],
   "source": [
    "def digitSum(n):\n",
    "    s = str(n)\n",
    "    array = list(map(int, s))\n",
    "    return sum(array)\n",
    "\n",
    "A, B = map(digitSum, input().split())\n",
    "\n",
    "if B <= A:\n",
    "    print(A)\n",
    "else:\n",
    "    print(B)\n",
    "\n",
    "\n"
   ]
  },
  {
   "cell_type": "code",
   "execution_count": 11,
   "metadata": {},
   "outputs": [
    {
     "name": "stdout",
     "output_type": "stream",
     "text": [
      "123\n",
      "124\n",
      "7\n"
     ]
    }
   ],
   "source": [
    "A, B = [sum(list(map(int,str(int(input()))))) for i in range(2)]\n",
    "\n",
    "if B <= A:\n",
    "    print(A)\n",
    "else:\n",
    "    print(B)"
   ]
  },
  {
   "cell_type": "code",
   "execution_count": null,
   "metadata": {},
   "outputs": [],
   "source": [
    "def digitSum(n):\n",
    "    # 数値を文字列に変換\n",
    "    s = str(n)\n",
    "    # １文字ずつ数値化し配列にする。\n",
    "    array = list(map(int, s))\n",
    "    # 合計値を返す\n",
    "    return sum(array)\n",
    "\n",
    "print(digitSum(123))\n",
    "# => 6\n",
    "print(digitSum(35829))\n",
    "# => 27"
   ]
  },
  {
   "cell_type": "code",
   "execution_count": null,
   "metadata": {},
   "outputs": [],
   "source": []
  },
  {
   "cell_type": "markdown",
   "metadata": {},
   "source": [
    "x\n",
    "y\n",
    "  平面上に \n",
    "1\n",
    ",\n",
    "2\n",
    ",\n",
    "…\n",
    ",\n",
    "N\n",
    " の番号が付けられた \n",
    "N\n",
    " 個の点があります。点 \n",
    "i\n",
    " は \n",
    "(\n",
    "x\n",
    "i\n",
    ",\n",
    "y\n",
    "i\n",
    ")\n",
    " にあり、\n",
    "N\n",
    " 個の点の \n",
    "x\n",
    " 座標は互いに異なります。\n",
    "\n",
    "以下の条件を満たす整数の組 \n",
    "(\n",
    "i\n",
    ",\n",
    "j\n",
    ")\n",
    " \n",
    "(\n",
    "i\n",
    "<\n",
    "j\n",
    ")\n",
    " の個数を求めてください。\n",
    "\n",
    "点 \n",
    "i\n",
    " と点 \n",
    "j\n",
    " を通る直線の傾きが \n",
    "−\n",
    "1\n",
    " 以上 \n",
    "1\n",
    " 以下である。"
   ]
  },
  {
   "cell_type": "code",
   "execution_count": 25,
   "metadata": {},
   "outputs": [
    {
     "name": "stdout",
     "output_type": "stream",
     "text": [
      "2\n",
      "1 1\n",
      "1\n",
      "2 2\n",
      "2\n"
     ]
    }
   ],
   "source": [
    "N = int(input())\n",
    "\n",
    "for i in range(N): # N回インプット\n",
    "    x, y = map(int, input().split())\n",
    "    print(x)\n",
    "    "
   ]
  },
  {
   "cell_type": "code",
   "execution_count": null,
   "metadata": {},
   "outputs": [],
   "source": [
    "N = int(input())\n",
    "\n",
    "for i in range(N): # N回インプット\n",
    "    x, y = map(int, input().split())\n",
    "    \n",
    "\n",
    "    \n",
    "\n",
    "str_list = list(inpt)"
   ]
  },
  {
   "cell_type": "code",
   "execution_count": null,
   "metadata": {},
   "outputs": [],
   "source": [
    "N = int(input())\n",
    "\n",
    "for i in range(N): # N回インプット\n",
    "    x, y = map(int, input().split())\n",
    "    print(x)\n",
    "    "
   ]
  },
  {
   "cell_type": "code",
   "execution_count": 45,
   "metadata": {},
   "outputs": [
    {
     "name": "stdout",
     "output_type": "stream",
     "text": [
      "3\n",
      "0 0\n",
      "1 2\n",
      "2 1\n",
      "1\n"
     ]
    }
   ],
   "source": [
    "N = int(input())\n",
    "\n",
    "xy = [map(int, input().split()) for _ in range(N)]\n",
    "x, y = [list(i) for i in zip(*xy)]\n",
    "\n",
    "cnt = 0\n",
    "\n",
    "for i in range(N):\n",
    "    \n",
    "    inclination = (y[i]-y[i+1])/(x[i]-x[i+1])\n",
    "    \n",
    "    if -1<=inclination<=1:\n",
    "        cnt+=1\n",
    "print(cnt)"
   ]
  },
  {
   "cell_type": "code",
   "execution_count": 50,
   "metadata": {},
   "outputs": [
    {
     "name": "stdout",
     "output_type": "stream",
     "text": [
      "3\n",
      "0 0\n",
      "1 2\n",
      "2 1\n"
     ]
    },
    {
     "ename": "ZeroDivisionError",
     "evalue": "division by zero",
     "output_type": "error",
     "traceback": [
      "\u001b[0;31m---------------------------------------------------------------------------\u001b[0m",
      "\u001b[0;31mZeroDivisionError\u001b[0m                         Traceback (most recent call last)",
      "\u001b[0;32m<ipython-input-50-2dac407f6930>\u001b[0m in \u001b[0;36m<module>\u001b[0;34m\u001b[0m\n\u001b[1;32m      8\u001b[0m \u001b[0;32mfor\u001b[0m \u001b[0mi\u001b[0m \u001b[0;32min\u001b[0m \u001b[0mrange\u001b[0m\u001b[0;34m(\u001b[0m\u001b[0mN\u001b[0m\u001b[0;34m)\u001b[0m\u001b[0;34m:\u001b[0m\u001b[0;34m\u001b[0m\u001b[0;34m\u001b[0m\u001b[0m\n\u001b[1;32m      9\u001b[0m     \u001b[0;32mfor\u001b[0m \u001b[0mj\u001b[0m \u001b[0;32min\u001b[0m \u001b[0mrange\u001b[0m\u001b[0;34m(\u001b[0m\u001b[0;36m1\u001b[0m\u001b[0;34m,\u001b[0m \u001b[0mN\u001b[0m\u001b[0;34m-\u001b[0m\u001b[0;36m1\u001b[0m\u001b[0;34m)\u001b[0m\u001b[0;34m:\u001b[0m\u001b[0;34m\u001b[0m\u001b[0;34m\u001b[0m\u001b[0m\n\u001b[0;32m---> 10\u001b[0;31m         \u001b[0minclination\u001b[0m \u001b[0;34m=\u001b[0m \u001b[0;34m(\u001b[0m\u001b[0my\u001b[0m\u001b[0;34m[\u001b[0m\u001b[0mi\u001b[0m\u001b[0;34m]\u001b[0m\u001b[0;34m-\u001b[0m\u001b[0my\u001b[0m\u001b[0;34m[\u001b[0m\u001b[0mj\u001b[0m\u001b[0;34m]\u001b[0m\u001b[0;34m)\u001b[0m\u001b[0;34m/\u001b[0m\u001b[0;34m(\u001b[0m\u001b[0mx\u001b[0m\u001b[0;34m[\u001b[0m\u001b[0mi\u001b[0m\u001b[0;34m]\u001b[0m\u001b[0;34m-\u001b[0m\u001b[0mx\u001b[0m\u001b[0;34m[\u001b[0m\u001b[0mj\u001b[0m\u001b[0;34m]\u001b[0m\u001b[0;34m)\u001b[0m\u001b[0;34m\u001b[0m\u001b[0;34m\u001b[0m\u001b[0m\n\u001b[0m\u001b[1;32m     11\u001b[0m \u001b[0;34m\u001b[0m\u001b[0m\n\u001b[1;32m     12\u001b[0m     \u001b[0;32mif\u001b[0m \u001b[0;34m-\u001b[0m\u001b[0;36m1\u001b[0m\u001b[0;34m<=\u001b[0m\u001b[0minclination\u001b[0m\u001b[0;34m<=\u001b[0m\u001b[0;36m1\u001b[0m\u001b[0;34m:\u001b[0m\u001b[0;34m\u001b[0m\u001b[0;34m\u001b[0m\u001b[0m\n",
      "\u001b[0;31mZeroDivisionError\u001b[0m: division by zero"
     ]
    }
   ],
   "source": [
    "N = int(input())\n",
    "\n",
    "xy = [map(int, input().split()) for _ in range(N)]\n",
    "x, y = [list(i) for i in zip(*xy)]\n",
    "\n",
    "cnt = 0\n",
    "\n",
    "for i in range(N):\n",
    "    for j in range(1, N-1):\n",
    "        inclination = (y[i]-y[j])/(x[i]-x[j])\n",
    "    \n",
    "    if -1<=inclination<=1:\n",
    "        cnt+=1\n",
    "print(cnt)"
   ]
  },
  {
   "cell_type": "code",
   "execution_count": 38,
   "metadata": {},
   "outputs": [
    {
     "name": "stdout",
     "output_type": "stream",
     "text": [
      "0\n",
      "1\n"
     ]
    }
   ],
   "source": [
    "-31 -35\n",
    "8 -36\n",
    "22 64\n",
    "5 73\n",
    "-14 8\n",
    "18 -58\n",
    "-41 -85\n",
    "1 -88\n",
    "-21 -85\n",
    "-11 82"
   ]
  }
 ],
 "metadata": {
  "kernelspec": {
   "display_name": "Python 3",
   "language": "python",
   "name": "python3"
  },
  "language_info": {
   "codemirror_mode": {
    "name": "ipython",
    "version": 3
   },
   "file_extension": ".py",
   "mimetype": "text/x-python",
   "name": "python",
   "nbconvert_exporter": "python",
   "pygments_lexer": "ipython3",
   "version": "3.6.8"
  }
 },
 "nbformat": 4,
 "nbformat_minor": 2
}
