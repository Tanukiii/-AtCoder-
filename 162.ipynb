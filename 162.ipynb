{
 "cells": [
  {
   "cell_type": "markdown",
   "metadata": {},
   "source": [
    "# A"
   ]
  },
  {
   "cell_type": "markdown",
   "metadata": {},
   "source": [
    "3\n",
    " 桁の整数 \n",
    "N\n",
    " が与えられます。\n",
    "N\n",
    " のいずれかの桁に数字の \n",
    "7\n",
    " は含まれますか？\n",
    "\n",
    "含まれるなら Yes を、含まれないなら No を出力してください。\n",
    "\n"
   ]
  },
  {
   "cell_type": "code",
   "execution_count": 12,
   "metadata": {},
   "outputs": [
    {
     "name": "stdout",
     "output_type": "stream",
     "text": [
      "237\n",
      "Yes\n"
     ]
    }
   ],
   "source": [
    "N = list(map(int, input()))\n",
    "#print(N)\n",
    "\n",
    "for i in N:\n",
    "    if i == 7:\n",
    "        print(\"Yes\")\n",
    "        break\n",
    "else:\n",
    "    print(\"No\")"
   ]
  },
  {
   "cell_type": "markdown",
   "metadata": {},
   "source": [
    "# B"
   ]
  },
  {
   "cell_type": "markdown",
   "metadata": {},
   "source": [
    "FizzBuzz列 a1\n",
    ",\n",
    "a\n",
    "2\n",
    ",\n",
    ".\n",
    ".\n",
    ".\n",
    " を次のように定めます。\n",
    "\n",
    "i\n",
    " が \n",
    "3\n",
    " でも \n",
    "5\n",
    " でも割り切れるなら、\n",
    "a\n",
    "i\n",
    "=\n",
    "FizzBuzz\n",
    "そうではなく \n",
    "i\n",
    " が \n",
    "3\n",
    " で割り切れるなら、\n",
    "a\n",
    "i\n",
    "=\n",
    "Fizz\n",
    "そうではなく \n",
    "i\n",
    " が \n",
    "5\n",
    " で割り切れるなら、\n",
    "a\n",
    "i\n",
    "=\n",
    "Buzz\n",
    "そうではないなら、\n",
    "a\n",
    "i\n",
    "=\n",
    "i\n",
    "FizzBuzz列の \n",
    "N\n",
    " 項目までに含まれる数の和を求めてください。"
   ]
  },
  {
   "cell_type": "code",
   "execution_count": 26,
   "metadata": {},
   "outputs": [
    {
     "name": "stdout",
     "output_type": "stream",
     "text": [
      "1000000\n",
      "266666333332\n"
     ]
    }
   ],
   "source": [
    "N = int(input())\n",
    "\n",
    "FizzBuzz = 0\n",
    "\n",
    "for i in range(1, N+1):\n",
    "    if (i % 3 != 0) and (i%5 != 0):\n",
    "        FizzBuzz+=i\n",
    "        \n",
    "print(FizzBuzz)"
   ]
  },
  {
   "cell_type": "code",
   "execution_count": 25,
   "metadata": {},
   "outputs": [
    {
     "name": "stdout",
     "output_type": "stream",
     "text": [
      "1000000\n",
      "266666333332\n"
     ]
    }
   ],
   "source": [
    "n = int(input())\n",
    "ans = 0\n",
    "\n",
    "for i in range(1, n+1):\n",
    "    if i%3 != 0 and i%5 != 0:\n",
    "        ans += i\n",
    "\n",
    "print(ans)"
   ]
  },
  {
   "cell_type": "code",
   "execution_count": 22,
   "metadata": {},
   "outputs": [
    {
     "data": {
      "text/plain": [
       "0"
      ]
     },
     "execution_count": 22,
     "metadata": {},
     "output_type": "execute_result"
    }
   ],
   "source": [
    "6%3"
   ]
  }
 ],
 "metadata": {
  "kernelspec": {
   "display_name": "Python 3",
   "language": "python",
   "name": "python3"
  },
  "language_info": {
   "codemirror_mode": {
    "name": "ipython",
    "version": 3
   },
   "file_extension": ".py",
   "mimetype": "text/x-python",
   "name": "python",
   "nbconvert_exporter": "python",
   "pygments_lexer": "ipython3",
   "version": "3.6.8"
  }
 },
 "nbformat": 4,
 "nbformat_minor": 2
}
