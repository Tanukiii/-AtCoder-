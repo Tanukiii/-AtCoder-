{
 "cells": [
  {
   "cell_type": "markdown",
   "metadata": {},
   "source": [
    "# A Poor"
   ]
  },
  {
   "cell_type": "markdown",
   "metadata": {},
   "source": [
    "3\n",
    "  つ組の数について、ある \n",
    "2\n",
    " つが等しく、残りの \n",
    "1\n",
    " つがそれらと異なるとき、その \n",
    "3\n",
    " つ組を「かわいそう」であるといいます。\n",
    "\n",
    "3\n",
    " つの整数 \n",
    "A\n",
    ",\n",
    "B\n",
    ",\n",
    "C\n",
    " が与えられるので、この \n",
    "3\n",
    " つ組がかわいそうであれば Yes を、そうでなければ No を出力してください。\n",
    "\n"
   ]
  },
  {
   "cell_type": "code",
   "execution_count": 6,
   "metadata": {},
   "outputs": [
    {
     "name": "stdout",
     "output_type": "stream",
     "text": [
      "4 4 4\n",
      "No\n"
     ]
    }
   ],
   "source": [
    "A = list(map(int, input().split()))\n",
    "B = len(set(A))\n",
    "\n",
    "if B == 2:\n",
    "    print(\"Yes\")\n",
    "else:\n",
    "    print(\"No\")"
   ]
  },
  {
   "cell_type": "markdown",
   "metadata": {},
   "source": [
    "# B Papers, Please"
   ]
  },
  {
   "cell_type": "markdown",
   "metadata": {},
   "source": [
    "あなたは AtCoder 王国の入国審査官です。入国者の書類にはいくつかの整数が書かれており、あなたの仕事はこれらが条件を満たすか判定することです。\n",
    "\n",
    "規約では、次の条件を満たすとき、またその時に限り、入国を承認することになっています。\n",
    "\n",
    "書類に書かれている整数のうち、偶数であるものは全て、\n",
    "3\n",
    " または \n",
    "5\n",
    " で割り切れる。\n",
    "上の規約に従うとき、書類に \n",
    "N\n",
    " 個の整数 \n",
    "A\n",
    "1\n",
    ",\n",
    "A\n",
    "2\n",
    ",\n",
    "…\n",
    ",\n",
    "A\n",
    "N\n",
    " が書かれた入国者を承認するならば APPROVED を、しないならば DENIED を出力してください。"
   ]
  },
  {
   "cell_type": "code",
   "execution_count": 10,
   "metadata": {},
   "outputs": [
    {
     "name": "stdout",
     "output_type": "stream",
     "text": [
      "3\n",
      "12 12 12\n",
      "APPROVED\n"
     ]
    }
   ],
   "source": [
    "import sys\n",
    "\n",
    "N = int(input())\n",
    "A = list(map(int, input().split()))\n",
    "\n",
    "for i in range(N):\n",
    "    if A[i] % 2==0:\n",
    "        if A[i] % 3 == 0 or A[i] % 5 ==0:\n",
    "            continue\n",
    "        else:\n",
    "            print(\"DENIED\")\n",
    "            sys.exit()\n",
    "print(\"APPROVED\")"
   ]
  }
 ],
 "metadata": {
  "kernelspec": {
   "display_name": "Python 3",
   "language": "python",
   "name": "python3"
  },
  "language_info": {
   "codemirror_mode": {
    "name": "ipython",
    "version": 3
   },
   "file_extension": ".py",
   "mimetype": "text/x-python",
   "name": "python",
   "nbconvert_exporter": "python",
   "pygments_lexer": "ipython3",
   "version": "3.6.8"
  }
 },
 "nbformat": 4,
 "nbformat_minor": 2
}
