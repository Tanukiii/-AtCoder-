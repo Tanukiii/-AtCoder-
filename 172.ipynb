{
 "cells": [
  {
   "cell_type": "markdown",
   "metadata": {},
   "source": [
    "# A "
   ]
  },
  {
   "cell_type": "markdown",
   "metadata": {},
   "source": [
    "整数 a が入力されます。値 \n",
    "a+ a^2+a^3\n",
    "を出力してください。"
   ]
  },
  {
   "cell_type": "code",
   "execution_count": 1,
   "metadata": {},
   "outputs": [
    {
     "name": "stdout",
     "output_type": "stream",
     "text": [
      "2\n",
      "14\n"
     ]
    }
   ],
   "source": [
    "a = int(input())\n",
    "print(a + a**2 + a**3)"
   ]
  },
  {
   "cell_type": "markdown",
   "metadata": {},
   "source": [
    "# B"
   ]
  },
  {
   "cell_type": "markdown",
   "metadata": {},
   "source": [
    "文字列 \n",
    "S\n",
    ", \n",
    "T\n",
    " が与えられます。次の操作を繰り返して \n",
    "S\n",
    " を \n",
    "T\n",
    " に変更するとき、操作回数の最小値を求めてください。"
   ]
  },
  {
   "cell_type": "code",
   "execution_count": 29,
   "metadata": {},
   "outputs": [
    {
     "name": "stdout",
     "output_type": "stream",
     "text": [
      "qww\n",
      "qwe\n",
      "1\n"
     ]
    }
   ],
   "source": [
    "S, T = [str(list(input())) for i in range(2)]\n",
    "\n",
    "count = 0\n",
    "\n",
    "for i in range(len(S)):\n",
    "    if S[i] != T[i]:\n",
    "        count+=1\n",
    "        \n",
    "print(count)"
   ]
  }
 ],
 "metadata": {
  "kernelspec": {
   "display_name": "Python 3",
   "language": "python",
   "name": "python3"
  },
  "language_info": {
   "codemirror_mode": {
    "name": "ipython",
    "version": 3
   },
   "file_extension": ".py",
   "mimetype": "text/x-python",
   "name": "python",
   "nbconvert_exporter": "python",
   "pygments_lexer": "ipython3",
   "version": "3.6.8"
  }
 },
 "nbformat": 4,
 "nbformat_minor": 2
}
