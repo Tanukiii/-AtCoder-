{
 "cells": [
  {
   "cell_type": "markdown",
   "metadata": {},
   "source": [
    "# Tutorial A - Welcome to AtCoder"
   ]
  },
  {
   "cell_type": "markdown",
   "metadata": {},
   "source": [
    " 高橋君はデータの加工が行いたいです。\n",
    "\n",
    "整数 \n",
    "a,b,c と、文字列 s が与えられます。 \n",
    "a\n",
    "+\n",
    "b\n",
    "+\n",
    "c\n",
    " の計算結果と、文字列 \n",
    "s\n",
    " を並べて表示しなさい。"
   ]
  },
  {
   "cell_type": "code",
   "execution_count": 1,
   "metadata": {},
   "outputs": [],
   "source": [
    "# 入力\n",
    "# a\n",
    "# b c\n",
    "# s\n",
    "\n",
    "# 出力\n",
    "# a+b+c と sを空白区切りで 1 行に出力せよ"
   ]
  },
  {
   "cell_type": "code",
   "execution_count": 3,
   "metadata": {},
   "outputs": [
    {
     "name": "stdout",
     "output_type": "stream",
     "text": [
      "1\n",
      "2 3\n",
      "おおん\n",
      "6 おおん\n"
     ]
    }
   ],
   "source": [
    "a = int(input())\n",
    "b, c = map(int, input().split())\n",
    "\n",
    "s = input()\n",
    "\n",
    "\n",
    "print(\"{} {}\".format(a+b+c,s))"
   ]
  },
  {
   "cell_type": "code",
   "execution_count": 11,
   "metadata": {},
   "outputs": [
    {
     "name": "stdout",
     "output_type": "stream",
     "text": [
      "['one', 'two', 'three', 'four', 'five']\n"
     ]
    }
   ],
   "source": [
    "s_comma = 'one,two,three,four,five'\n",
    "\n",
    "print(s_comma.split(','))"
   ]
  },
  {
   "cell_type": "code",
   "execution_count": 14,
   "metadata": {},
   "outputs": [
    {
     "name": "stdout",
     "output_type": "stream",
     "text": [
      "['one,two,three,four,five']\n"
     ]
    }
   ],
   "source": [
    "s_comma = 'one,two,three,four,five'\n",
    "\n",
    "print(s_comma.split())"
   ]
  },
  {
   "cell_type": "code",
   "execution_count": 16,
   "metadata": {},
   "outputs": [
    {
     "name": "stdout",
     "output_type": "stream",
     "text": [
      "['one', 'two', 'three', 'four', 'five']\n"
     ]
    }
   ],
   "source": [
    "s_comma = 'one two three four five'\n",
    "\n",
    "print(s_comma.split())"
   ]
  },
  {
   "cell_type": "markdown",
   "metadata": {},
   "source": [
    "# 1 ABC086A - Product"
   ]
  },
  {
   "cell_type": "markdown",
   "metadata": {},
   "source": [
    "二つの正整数 a\n",
    ", b\n",
    " が与えられます。 a\n",
    " と b\n",
    " の積が偶数か奇数か判定してください"
   ]
  },
  {
   "cell_type": "code",
   "execution_count": 2,
   "metadata": {},
   "outputs": [],
   "source": [
    "# 入力\n",
    "# a b\n",
    "\n",
    "# 出力\n",
    "# 積が奇数なら Odd と、 偶数なら Even と出力せよ。"
   ]
  },
  {
   "cell_type": "code",
   "execution_count": 20,
   "metadata": {},
   "outputs": [
    {
     "name": "stdout",
     "output_type": "stream",
     "text": [
      "1 5\n",
      "Odd\n"
     ]
    }
   ],
   "source": [
    "a, b = map(int,input().split())\n",
    "\n",
    "c =a*b\n",
    "\n",
    "if c %2 ==0:\n",
    "    print(\"Even\")\n",
    "else:\n",
    "    print(\"Odd\")"
   ]
  },
  {
   "cell_type": "code",
   "execution_count": 32,
   "metadata": {},
   "outputs": [
    {
     "name": "stdout",
     "output_type": "stream",
     "text": [
      "1 5\n",
      "Odd\n"
     ]
    }
   ],
   "source": [
    "# 解説 a*bを2で割った余りが 0 となる場合はEven、0とならない場合はOddを出力します。\n",
    "\n",
    "a, b = map(int, input().split())\n",
    "print(\"Even\" if a*b % 2 == 0 else \"Odd\")"
   ]
  },
  {
   "cell_type": "markdown",
   "metadata": {},
   "source": [
    "# 2 ABC081A - Placing Marbles "
   ]
  },
  {
   "cell_type": "markdown",
   "metadata": {},
   "source": [
    "0 と 1 のみから成る 3 桁の番号 s が与えられます。1 が何個含まれるかを求めてください。"
   ]
  },
  {
   "cell_type": "code",
   "execution_count": 3,
   "metadata": {},
   "outputs": [],
   "source": [
    "# 入力は以下の形式で標準入力から与えられる。\n",
    "# s1s2s3\n",
    "\n",
    "# 例）\n",
    "\n",
    "# s = \"101\"\n",
    "# 答え: 2"
   ]
  },
  {
   "cell_type": "code",
   "execution_count": 31,
   "metadata": {},
   "outputs": [
    {
     "name": "stdout",
     "output_type": "stream",
     "text": [
      "111\n",
      "3\n"
     ]
    }
   ],
   "source": [
    "x = map(int,input())\n",
    "\n",
    "lis = 0\n",
    "\n",
    "for i in x:\n",
    "    if i == 1:\n",
    "        lis +=1\n",
    "print(lis)"
   ]
  },
  {
   "cell_type": "code",
   "execution_count": 33,
   "metadata": {},
   "outputs": [
    {
     "name": "stdout",
     "output_type": "stream",
     "text": [
      "111\n",
      "3\n"
     ]
    }
   ],
   "source": [
    "#解説 入力された文字列sの中にある文字1 の数を出力します\n",
    "\n",
    "s = input()\n",
    "print(s.count(\"1\"))"
   ]
  },
  {
   "cell_type": "markdown",
   "metadata": {},
   "source": [
    "# 🌟3 ABC081B - Shift only"
   ]
  },
  {
   "cell_type": "markdown",
   "metadata": {},
   "source": [
    "黒板に \n",
    "N\n",
    " 個の正の整数 \n",
    "A\n",
    "1\n",
    ",\n",
    ".\n",
    ".\n",
    ".\n",
    ",\n",
    "A\n",
    "N\n",
    " が書かれています．\n",
    "\n",
    "すぬけ君は，黒板に書かれている整数がすべて偶数であるとき，次の操作を行うことができます．\n",
    "\n",
    "黒板に書かれている整数すべてを，\n",
    "2\n",
    " で割ったものに置き換える．\n",
    "すぬけ君は最大で何回操作を行うことができるかを求めてください"
   ]
  },
  {
   "cell_type": "code",
   "execution_count": 4,
   "metadata": {},
   "outputs": [],
   "source": [
    "# （例）\n",
    "\n",
    "# 入力\n",
    "# 3\n",
    "# 8 12 40\n",
    "\n",
    "# 出力\n",
    "# 2"
   ]
  },
  {
   "cell_type": "markdown",
   "metadata": {},
   "source": [
    "解説 \n",
    "\n",
    "リストAのすべての要素が2で割り切れなくまで、リストAのすべての要素を2で割り続けます。\n",
    "\n",
    "リストAのすべての要素が2で割り切れなくなるまでの数を出力します。"
   ]
  },
  {
   "cell_type": "code",
   "execution_count": 39,
   "metadata": {},
   "outputs": [
    {
     "name": "stdout",
     "output_type": "stream",
     "text": [
      "3\n",
      "8 12 40\n",
      "2\n"
     ]
    }
   ],
   "source": [
    "N = int(input())\n",
    "A = list(map(int, input().split()))\n",
    "\n",
    "count =0\n",
    "\n",
    "while all(a % 2 == 0 for a in A):\n",
    "    A = [a/2 for a in A]\n",
    "    count +=1\n",
    "print(count)"
   ]
  },
  {
   "cell_type": "markdown",
   "metadata": {},
   "source": [
    "# 🌟4 ABC087B - Coins"
   ]
  },
  {
   "cell_type": "markdown",
   "metadata": {},
   "source": [
    "あなたは、\n",
    "500\n",
    " 円玉を \n",
    "A\n",
    " 枚、\n",
    "100\n",
    " 円玉を \n",
    "B\n",
    " 枚、\n",
    "50\n",
    " 円玉を \n",
    "C\n",
    " 枚持っています。 これらの硬貨の中から何枚かを選び、合計金額をちょうど \n",
    "X\n",
    " 円にする方法は何通りありますか。"
   ]
  },
  {
   "cell_type": "code",
   "execution_count": 5,
   "metadata": {},
   "outputs": [],
   "source": [
    "# （例）\n",
    "\n",
    "# 入力\n",
    "# ２ A\n",
    "# ２ B\n",
    "# ２ C\n",
    "# １０００ X\n",
    "\n",
    "# （出力）\n",
    "# ２"
   ]
  },
  {
   "cell_type": "code",
   "execution_count": 41,
   "metadata": {},
   "outputs": [
    {
     "name": "stdout",
     "output_type": "stream",
     "text": [
      "2\n",
      "2\n",
      "2\n",
      "100\n",
      "2\n"
     ]
    }
   ],
   "source": [
    "A, B, C, X = [int(input()) for i in range(4)]\n",
    "\n",
    "print(sum(500*a+100*b+50*c == X for a in range(A+1) for b in range(B+1) for c in range(C+1)))"
   ]
  },
  {
   "cell_type": "code",
   "execution_count": 62,
   "metadata": {},
   "outputs": [
    {
     "name": "stdout",
     "output_type": "stream",
     "text": [
      "2\n",
      "2\n",
      "2\n",
      "100\n",
      "2\n"
     ]
    }
   ],
   "source": [
    "A, B, C, X = [int(input()) for i in range (4)]\n",
    "\n",
    "count = 0\n",
    "\n",
    "for i in range(A+1):\n",
    "    for j in range(B+1):\n",
    "        for m in range(C+1):\n",
    "            if 500*i+100*j+50*m==X:\n",
    "                count+=1\n",
    "print(count)"
   ]
  },
  {
   "cell_type": "code",
   "execution_count": 66,
   "metadata": {},
   "outputs": [
    {
     "name": "stdout",
     "output_type": "stream",
     "text": [
      "2\n",
      "2\n",
      "2\n",
      "100\n",
      "2\n"
     ]
    }
   ],
   "source": [
    "A, B, C, X = [int(input()) for i in range(4)]\n",
    "\n",
    "print(\n",
    "  sum(\n",
    "    [500*i+100*j+50*k== X\n",
    "       for i in range(A+1)\n",
    "       for j in range(B+1)\n",
    "       for k in range(C+1)]\n",
    "   )\n",
    ")"
   ]
  },
  {
   "cell_type": "markdown",
   "metadata": {},
   "source": [
    "解説を加えるとi, j, kのループを回した際に500*i+100*j+50*kがxになる場合Trueをリストに格納し、そうでなければFalseを格納する。\n",
    "で、sum()でTrueの数をカウントしてその結果をprint()する。\n",
    "…といった感じ。"
   ]
  },
  {
   "cell_type": "code",
   "execution_count": 65,
   "metadata": {},
   "outputs": [
    {
     "name": "stdout",
     "output_type": "stream",
     "text": [
      "2\n",
      "2\n",
      "2\n",
      "100\n",
      "[False, False, True, True, False, False, False, False, False, False, False, False, False, False, False, False, False, False, False, False, False, False, False, False, False, False, False]\n"
     ]
    }
   ],
   "source": [
    "A, B, C, X = [int(input()) for i in range(4)]\n",
    "\n",
    "print(\n",
    "    [500*i+100*j+50*k== X\n",
    "       for i in range(A+1)\n",
    "       for j in range(B+1)\n",
    "       for k in range(C+1)]\n",
    ")"
   ]
  },
  {
   "cell_type": "code",
   "execution_count": 70,
   "metadata": {},
   "outputs": [
    {
     "name": "stdout",
     "output_type": "stream",
     "text": [
      "0\n"
     ]
    }
   ],
   "source": [
    "for i in range(1):\n",
    "    print(i)"
   ]
  },
  {
   "cell_type": "markdown",
   "metadata": {},
   "source": [
    "# 5 ABC083B - Some Sums"
   ]
  },
  {
   "cell_type": "markdown",
   "metadata": {},
   "source": [
    "1\n",
    " 以上 \n",
    "N\n",
    " 以下の整数のうち、\n",
    "10\n",
    " 進法での各桁の和が \n",
    "A\n",
    " 以上 \n",
    "B\n",
    " 以下であるものの総和を求めてください。"
   ]
  },
  {
   "cell_type": "markdown",
   "metadata": {},
   "source": [
    "入力\n",
    "N\n",
    "A\n",
    "B\n",
    "\n",
    "（例）\n",
    "\n",
    "入力\n",
    "２０\n",
    "２\n",
    "５\n",
    "\n",
    "出力\n",
    "８４\n"
   ]
  },
  {
   "cell_type": "markdown",
   "metadata": {},
   "source": [
    "20\n",
    "  以下の整数のうち、各桁の和が \n",
    "2\n",
    " 以上 \n",
    "5\n",
    " 以下なのは \n",
    "2\n",
    ",\n",
    "3\n",
    ",\n",
    "4\n",
    ",\n",
    "5\n",
    ",\n",
    "11\n",
    ",\n",
    "12\n",
    ",\n",
    "13\n",
    ",\n",
    "14\n",
    ",\n",
    "20\n",
    " です。これらの合計である \n",
    "84\n",
    " を出力します。"
   ]
  },
  {
   "cell_type": "markdown",
   "metadata": {},
   "source": [
    "(解法)　数字の各桁を合計するために、一度整数を文字列に変換し、桁をバラバラにしてからもう一度文字列を整数に変換し合計する。\n",
    "今回は i が 13 のときの解説をします。\n",
    "\n",
    "str(i) で 13 を '13' にキャストする。\n",
    "\n",
    "list('13') で '13' を ['1', '3'] に分割する。\n",
    "\n",
    "map(int, ['1', '3']) で ['1', '3'] を [1, 3] にする。\n",
    "\n",
    "list([1, 3]) でイテレータをリストにする。\n",
    "\n",
    "sum([1, 3]) で 4 を得る。\n",
    "\n",
    "if 2 <= 4 <= 5: は if True なので ans += i で ans の値を 13 増やす。"
   ]
  },
  {
   "cell_type": "code",
   "execution_count": 77,
   "metadata": {},
   "outputs": [
    {
     "name": "stdout",
     "output_type": "stream",
     "text": [
      "20\n",
      "2\n",
      "5\n",
      "84\n"
     ]
    }
   ],
   "source": [
    "# N, A, B = [int(input()) for i in range(3)] # new line base\n",
    "\n",
    "N,A,B = map(int, input().split()) # indent base\n",
    "\n",
    "ans = 0\n",
    "for i in range(N+1) :\n",
    "    if A <= sum(list(map(int, list(str(i))))) <= B:\n",
    "        ans +=i\n",
    "print(ans)"
   ]
  },
  {
   "cell_type": "code",
   "execution_count": 73,
   "metadata": {},
   "outputs": [
    {
     "name": "stdout",
     "output_type": "stream",
     "text": [
      "['1', '3']\n"
     ]
    }
   ],
   "source": [
    "print(list(\"13\"))"
   ]
  },
  {
   "cell_type": "markdown",
   "metadata": {},
   "source": [
    "# 6 ABC088B - Card Game for Two"
   ]
  },
  {
   "cell_type": "markdown",
   "metadata": {},
   "source": [
    "N\n",
    "  枚のカードがあります. \n",
    "i\n",
    " 枚目のカードには, \n",
    "a\n",
    "i\n",
    " という数が書かれています.\n",
    "Alice と Bob は, これらのカードを使ってゲームを行います. ゲームでは, Alice と Bob が交互に 1 枚ずつカードを取っていきます. Alice が先にカードを取ります.\n",
    "2 人がすべてのカードを取ったときゲームは終了し, 取ったカードの数の合計がその人の得点になります. 2 人とも自分の得点を最大化するように最適な戦略を取った時, Alice は Bob より何点多く取るか求めてください."
   ]
  },
  {
   "cell_type": "markdown",
   "metadata": {},
   "source": [
    "入力\n",
    "N\n",
    "a1 a2 a3 ... aN\n",
    "\n",
    "(例)\n",
    "入力\n",
    "2\n",
    "3 1\n",
    "\n",
    "出力\n",
    "2"
   ]
  },
  {
   "cell_type": "markdown",
   "metadata": {},
   "source": [
    "解法：入力された数字を降順に並び替えて Alice は奇数番目の数字を、Bob は偶数番目の数字を合計して、二人の差を求める。"
   ]
  },
  {
   "cell_type": "code",
   "execution_count": 94,
   "metadata": {},
   "outputs": [
    {
     "name": "stdout",
     "output_type": "stream",
     "text": [
      "2\n",
      "3 1\n",
      "2\n"
     ]
    }
   ],
   "source": [
    "N = int(input())\n",
    "A = sorted(list(map(int, input().split())), reverse = True)\n",
    "\n",
    "print(sum(A[::2]) - sum(A[1::2]))"
   ]
  },
  {
   "cell_type": "markdown",
   "metadata": {},
   "source": [
    "a[::2] で ０番目から２つずつで[19, 8, 2] を\n",
    "\n",
    "a[1::2] で 一番目から二つずつで[16, 4] を得る。\n",
    "\n",
    "sum([19, 8, 2]) は 29 、sum([16, 4]) は 20 。\n",
    "\n",
    "print(29 - 20) で 9 を標準出力する。\n",
    "\n",
    "\n",
    "Python ではスライス ([::2]) を使うことで、n 個おきに要素を取得したりできるので便利です。"
   ]
  },
  {
   "cell_type": "code",
   "execution_count": 87,
   "metadata": {},
   "outputs": [
    {
     "data": {
      "text/plain": [
       "[2, 4, 6, 8]"
      ]
     },
     "execution_count": 87,
     "metadata": {},
     "output_type": "execute_result"
    }
   ],
   "source": [
    "d = [1,2,3,4,5,6,7,8]\n",
    "d[1::2]"
   ]
  },
  {
   "cell_type": "markdown",
   "metadata": {},
   "source": [
    "# 7 ABC085B - Kagami Mochi"
   ]
  },
  {
   "cell_type": "markdown",
   "metadata": {},
   "source": [
    "X\n",
    "  段重ねの鏡餅 \n",
    "(\n",
    "X\n",
    "≥\n",
    "1\n",
    ")\n",
    " とは、\n",
    "X\n",
    " 枚の円形の餅を縦に積み重ねたものであって、どの餅もその真下の餅より直径が小さい（一番下の餅を除く）もののことです。例えば、直径 \n",
    "10\n",
    "、\n",
    "8\n",
    "、\n",
    "6\n",
    " センチメートルの餅をこの順に下から積み重ねると \n",
    "3\n",
    " 段重ねの鏡餅になり、餅を一枚だけ置くと \n",
    "1\n",
    " 段重ねの鏡餅になります。\n",
    "\n",
    "ダックスフンドのルンルンは \n",
    "N\n",
    " 枚の円形の餅を持っていて、そのうち \n",
    "i\n",
    " 枚目の餅の直径は \n",
    "d\n",
    "i\n",
    " センチメートルです。これらの餅のうち一部または全部を使って鏡餅を作るとき、最大で何段重ねの鏡餅を作ることができるでしょうか。\n",
    " \n",
    "1\n",
    "≤\n",
    "N\n",
    "≤\n",
    "100\n",
    "\n",
    "1\n",
    "≤\n",
    "d\n",
    "i\n",
    "≤\n",
    "100\n",
    "\n",
    "入力値はすべて整数である。"
   ]
  },
  {
   "cell_type": "code",
   "execution_count": 6,
   "metadata": {},
   "outputs": [],
   "source": [
    "# 入力\n",
    "# N\n",
    "# d1\n",
    "# d2\n",
    "# ：\n",
    "# dN\n",
    "\n",
    "# (例)\n",
    "# （入力）\n",
    "# ４\n",
    "# １０\n",
    "# ８\n",
    "# ８\n",
    "# ６\n",
    "\n",
    "# （出力）\n",
    "# ３"
   ]
  },
  {
   "cell_type": "markdown",
   "metadata": {},
   "source": [
    "解法：入力された数字を取得していき、同じ数字を取得した場合はスルーすることで問題を解くことができます。"
   ]
  },
  {
   "cell_type": "code",
   "execution_count": 104,
   "metadata": {},
   "outputs": [
    {
     "name": "stdout",
     "output_type": "stream",
     "text": [
      "3\n",
      "1\n",
      "1\n",
      "2\n",
      "2\n"
     ]
    }
   ],
   "source": [
    "N = int(input())\n",
    "\n",
    "# setで被るものを数えないようにする\n",
    "# lenで最後に個数を数える\n",
    "\n",
    "print(len(sorted(set(int(input()) for i in range(N)))))"
   ]
  },
  {
   "cell_type": "markdown",
   "metadata": {},
   "source": [
    "# 🌟 8 ABC085C - Otoshidama "
   ]
  },
  {
   "cell_type": "markdown",
   "metadata": {},
   "source": [
    "日本でよく使われる紙幣は、\n",
    "10000\n",
    " 円札、\n",
    "5000\n",
    " 円札、\n",
    "1000\n",
    " 円札です。以下、「お札」とはこれらのみを指します。\n",
    "\n",
    "青橋くんが言うには、彼が祖父から受け取ったお年玉袋にはお札が \n",
    "N\n",
    " 枚入っていて、合計で \n",
    "Y\n",
    " 円だったそうですが、嘘かもしれません。このような状況がありうるか判定し、ありうる場合はお年玉袋の中身の候補を一つ見つけてください。なお、彼の祖父は十分裕福であり、お年玉袋は十分大きかったものとします。\n",
    "    \n",
    "1\n",
    "≤\n",
    "N\n",
    "≤\n",
    "2000\n",
    "\n",
    "1000\n",
    "≤\n",
    "Y\n",
    "≤\n",
    "2\n",
    "×\n",
    "10^7\n",
    "\n",
    "N\n",
    " は整数である。\n",
    " \n",
    "Y\n",
    " は \n",
    "1000\n",
    " の倍数である。\n"
   ]
  },
  {
   "cell_type": "code",
   "execution_count": 7,
   "metadata": {},
   "outputs": [],
   "source": [
    "# 入力\n",
    "# N\n",
    "# Y\n",
    "\n",
    "# （出力）\n",
    "# X Y Z\n",
    "# ない場合は　ー１　−１　−１\n",
    "\n",
    "# 例\n",
    "# （入力）\n",
    "# ９ ４５０００\n",
    "\n",
    "# （出力）\n",
    "# ４０５"
   ]
  },
  {
   "cell_type": "code",
   "execution_count": 2,
   "metadata": {},
   "outputs": [
    {
     "name": "stdout",
     "output_type": "stream",
     "text": [
      "9 45000\n",
      "0 9 0\n",
      "4 0 5\n",
      "-1 -1 -1\n"
     ]
    },
    {
     "name": "stderr",
     "output_type": "stream",
     "text": [
      "ERROR:root:Invalid alias: The name clear can't be aliased because it is another magic command.\n",
      "ERROR:root:Invalid alias: The name more can't be aliased because it is another magic command.\n",
      "ERROR:root:Invalid alias: The name less can't be aliased because it is another magic command.\n",
      "ERROR:root:Invalid alias: The name man can't be aliased because it is another magic command.\n"
     ]
    }
   ],
   "source": [
    "N,Y = map(int, input().split())\n",
    "        \n",
    "for x in range(N +1):\n",
    "    for y in range(N - x+1):\n",
    "        z = N-x-y\n",
    "        if x * 10000 + y * 5000 + z * 1000 == Y:\n",
    "            print(x,y,z)\n",
    "            exit()\n",
    "print(-1, -1, -1)"
   ]
  },
  {
   "cell_type": "markdown",
   "metadata": {},
   "source": [
    "N に 9 を、Y に 45000 を代入する。\n",
    "\n",
    "Y のお札の数だけ for 文を回し、全ての組み合わせを試す。\n",
    "\n",
    "2 重 for ループを回すと \n",
    "\n",
    "[x, y, z] = \n",
    "\n",
    "[0, 0, 9] [0, 1, 8] [0, 2, 7] [0, 3, 6] [0, 4, 5] [0, 5, 4] [0, 6, 3] [0, 7, 2] [0, 8, 1] [0, 9, 0]\n",
    "[1, 0, 8] [1, 1, 7] [1, 2, 6] [1, 3, 5] [1, 4, 4] [1, 5, 3] [1, 6, 2] [1, 7, 1] [1, 8, 0]\n",
    "[2, 0, 7] [2, 1, 6] [2, 2, 5] ...\n",
    "\n",
    " の順に代入される。\n",
    "\n",
    "[0, 9, 0] の場合 if 0 * 10000 + 9 * 5000 + 0 * 1000 == 45000: で if True: となる。\n",
    "\n",
    "print(x, y, z) で標準出力に 0 9 0 を出力する。\n",
    "\n",
    "exit() でループの途中でもプログラムを終了する。"
   ]
  },
  {
   "cell_type": "markdown",
   "metadata": {},
   "source": [
    "# 9 ABC049C - 白昼夢"
   ]
  },
  {
   "cell_type": "markdown",
   "metadata": {},
   "source": [
    "英小文字からなる文字列 \n",
    "S\n",
    " が与えられます。 \n",
    "T\n",
    "が空文字列である状態から始め、以下の操作を好きな回数繰り返すことで \n",
    "S\n",
    "=\n",
    "T\n",
    " とすることができるか判定してください。\n",
    "\n",
    "T\n",
    " の末尾に dream dreamer erase eraser のいずれかを追加する。"
   ]
  },
  {
   "cell_type": "markdown",
   "metadata": {},
   "source": [
    "（例）\n",
    "\n",
    "（入力）\n",
    "erasedream\n",
    "\n",
    "（出力）\n",
    "YES\n",
    "\n",
    "S\n",
    "=\n",
    "T\n",
    "  とすることができる場合 YES を、そうでない場合 NO を出力せよ。"
   ]
  },
  {
   "cell_type": "markdown",
   "metadata": {},
   "source": [
    "(解法)\n",
    "\n",
    "解説】入力された文字列Sが「dream」「dreamer」「erase」「eraser」のいずれかを1回以上繰り返されている場合はYES、繰り返されていない場合はNOを出力します。"
   ]
  },
  {
   "cell_type": "code",
   "execution_count": 15,
   "metadata": {},
   "outputs": [
    {
     "name": "stdout",
     "output_type": "stream",
     "text": [
      "dream\n",
      "YES\n"
     ]
    }
   ],
   "source": [
    "import re\n",
    "S = input()\n",
    "print(\"YES\" if re.match(\"^(dream|dreamer|erase|eraser)+$\", S) else \"NO\")\n",
    "\n",
    "# $　文字列の末尾のみ反応"
   ]
  },
  {
   "cell_type": "markdown",
   "metadata": {},
   "source": [
    "# 10 ABC086C - Traveling"
   ]
  },
  {
   "cell_type": "markdown",
   "metadata": {},
   "source": [
    "シカのAtCoDeerくんは二次元平面上で旅行をしようとしています。 AtCoDeerくんの旅行プランでは、時刻 \n",
    "0\n",
    " に 点 \n",
    "(\n",
    "0\n",
    ",\n",
    "0\n",
    ")\n",
    " を出発し、 \n",
    " \n",
    "1\n",
    " 以上 \n",
    "N\n",
    " 以下の各 \n",
    "i\n",
    "に対し、時刻 \n",
    "t\n",
    "i\n",
    " に 点 \n",
    "(\n",
    "x\n",
    "i\n",
    ",\n",
    "y\n",
    "i\n",
    ")\n",
    " を訪れる予定です。\n",
    "\n",
    "AtCoDeerくんが時刻 \n",
    "t\n",
    " に 点 \n",
    "(\n",
    "x\n",
    ",\n",
    "y\n",
    ")\n",
    " にいる時、 時刻 \n",
    "t\n",
    "+\n",
    "1\n",
    " には 点 \n",
    "(\n",
    "x\n",
    "+\n",
    "1\n",
    ",\n",
    "y\n",
    ")\n",
    ", \n",
    "(\n",
    "x\n",
    "−\n",
    "1\n",
    ",\n",
    "y\n",
    ")\n",
    ", \n",
    "(\n",
    "x\n",
    ",\n",
    "y\n",
    "+\n",
    "1\n",
    ")\n",
    ", \n",
    "(\n",
    "x\n",
    ",\n",
    "y\n",
    "−\n",
    "1\n",
    ")\n",
    " のうちいずれかに存在することができます。 その場にとどまることは出来ないことに注意してください。 AtCoDeerくんの旅行プランが実行可能かどうか判定してください。"
   ]
  },
  {
   "cell_type": "markdown",
   "metadata": {},
   "source": [
    "(入力)\n",
    "N\n",
    " \n",
    "t1　x1　y1\n",
    "\n",
    "t2　x2　y2\n",
    "\n",
    ":\n",
    "\n",
    "tN　xN　yN\n",
    "\n",
    "（出力）\n",
    "旅行プランが実行可能ならYesを、不可能ならNoを出力してください。"
   ]
  },
  {
   "cell_type": "markdown",
   "metadata": {},
   "source": [
    "（例）\n",
    "\n",
    "2\n",
    "\n",
    "3 1 2\n",
    "6 1 1\n",
    "\n",
    "Yes"
   ]
  },
  {
   "cell_type": "markdown",
   "metadata": {},
   "source": [
    "(解法)\n",
    "\n",
    "満たすべき条件は２つ\n",
    "\n",
    ". {|x−dx|+|y−dy|≦t−dt\n",
    "\n",
    ". t%2=(x+y)%2\n",
    "\n",
    "\n",
    "(x + y) % 2 では x + y の合計が 2 で割り切れない場合、つまり x + y と t の偶奇が異なる場合は「その場にとどまることは出来ない」という条件から通り過ぎてしまう。"
   ]
  },
  {
   "cell_type": "code",
   "execution_count": 7,
   "metadata": {},
   "outputs": [
    {
     "name": "stdout",
     "output_type": "stream",
     "text": [
      "2\n",
      "3 1 2\n",
      "6 1 1\n",
      "Yes\n"
     ]
    }
   ],
   "source": [
    "N = int(input())\n",
    "\n",
    "count = 0\n",
    "dt, dx, dy = 0, 0, 0\n",
    "\n",
    "for i in range(N): # N回インプット\n",
    "    t, x, y = map(int, input().split())\n",
    "    \n",
    "    if abs(x-dx) + abs(y-dy) <= t-dt and t%2 == (x+y)%2:\n",
    "        count +=1\n",
    "    dt, dx, dt = t, x, y   # 移動\n",
    "\n",
    "print(\"Yes\" if count == N else \"No\")    "
   ]
  }
 ],
 "metadata": {
  "kernelspec": {
   "display_name": "Python 3",
   "language": "python",
   "name": "python3"
  },
  "language_info": {
   "codemirror_mode": {
    "name": "ipython",
    "version": 3
   },
   "file_extension": ".py",
   "mimetype": "text/x-python",
   "name": "python",
   "nbconvert_exporter": "python",
   "pygments_lexer": "ipython3",
   "version": "3.6.8"
  }
 },
 "nbformat": 4,
 "nbformat_minor": 2
}
