{
 "cells": [
  {
   "cell_type": "markdown",
   "metadata": {},
   "source": [
    "# A"
   ]
  },
  {
   "cell_type": "code",
   "execution_count": 1,
   "metadata": {},
   "outputs": [
    {
     "name": "stdout",
     "output_type": "stream",
     "text": [
      "2 3 2\n",
      "1\n"
     ]
    },
    {
     "name": "stderr",
     "output_type": "stream",
     "text": [
      "ERROR:root:Invalid alias: The name clear can't be aliased because it is another magic command.\n",
      "ERROR:root:Invalid alias: The name more can't be aliased because it is another magic command.\n",
      "ERROR:root:Invalid alias: The name less can't be aliased because it is another magic command.\n",
      "ERROR:root:Invalid alias: The name man can't be aliased because it is another magic command.\n"
     ]
    }
   ],
   "source": [
    "N, K, A = map(int, input().split())\n",
    "\n",
    "remain = N - A\n",
    "\n",
    "if remain == 0:\n",
    "    print(1)\n",
    "    exit()\n",
    "    \n",
    "elif K <= remain:\n",
    "    print(K + A -1)\n",
    "    exit()\n",
    "    \n",
    "else:\n",
    "    e = K % N\n",
    "    print(e + remain)"
   ]
  },
  {
   "cell_type": "code",
   "execution_count": 26,
   "metadata": {},
   "outputs": [
    {
     "name": "stdout",
     "output_type": "stream",
     "text": [
      "3 14 2\n",
      "3\n"
     ]
    }
   ],
   "source": [
    "N, K, A = map(int, input().split())\n",
    "\n",
    "remain = N - A\n",
    "e = K % N\n",
    "print(e + remain)\n"
   ]
  },
  {
   "cell_type": "code",
   "execution_count": 8,
   "metadata": {},
   "outputs": [
    {
     "name": "stdout",
     "output_type": "stream",
     "text": [
      "3 3 2\n",
      "1\n"
     ]
    }
   ],
   "source": [
    "N, K, A = map(int, input().split())\n",
    "\n",
    "\n",
    "if N - A == 0:\n",
    "    remain = N - (A-1)\n",
    "else:\n",
    "    remain = N - A\n",
    "\n",
    "if N == 1:\n",
    "    print(1)\n",
    "    exit()\n",
    "\n",
    "\n",
    "elif K <= remain:\n",
    "    print(K + A -1)\n",
    "    exit()\n",
    "    \n",
    "else:\n",
    "    e = K % N\n",
    "    print(e + remain)"
   ]
  },
  {
   "cell_type": "markdown",
   "metadata": {},
   "source": [
    "### 3 % 2"
   ]
  },
  {
   "cell_type": "code",
   "execution_count": null,
   "metadata": {},
   "outputs": [],
   "source": [
    "\n",
    "elif K < remain:\n",
    "    print(K + A -1)\n",
    "    exit()"
   ]
  }
 ],
 "metadata": {
  "kernelspec": {
   "display_name": "Python 3",
   "language": "python",
   "name": "python3"
  },
  "language_info": {
   "codemirror_mode": {
    "name": "ipython",
    "version": 3
   },
   "file_extension": ".py",
   "mimetype": "text/x-python",
   "name": "python",
   "nbconvert_exporter": "python",
   "pygments_lexer": "ipython3",
   "version": "3.6.8"
  }
 },
 "nbformat": 4,
 "nbformat_minor": 2
}
