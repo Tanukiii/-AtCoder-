{
 "cells": [
  {
   "cell_type": "markdown",
   "metadata": {},
   "source": [
    "# 193"
   ]
  },
  {
   "cell_type": "markdown",
   "metadata": {},
   "source": [
    "# A - Discount"
   ]
  },
  {
   "cell_type": "markdown",
   "metadata": {},
   "source": [
    "定価 \n",
    "A\n",
    " 円の商品が \n",
    "B\n",
    " 円で売られているとき、この商品の売値は定価の何パーセント引きですか？"
   ]
  },
  {
   "cell_type": "code",
   "execution_count": 20,
   "metadata": {},
   "outputs": [
    {
     "name": "stdout",
     "output_type": "stream",
     "text": [
      "100 80\n",
      "20.0\n"
     ]
    }
   ],
   "source": [
    "A, B = map(int, input().split())\n",
    "\n",
    "C = (B/A)\n",
    "C = (1-C) * 100 # パーセンテージ\n",
    "print(round(C, 10))"
   ]
  },
  {
   "cell_type": "markdown",
   "metadata": {},
   "source": [
    "# B - Play Snuke"
   ]
  },
  {
   "cell_type": "markdown",
   "metadata": {},
   "source": [
    "高橋くんは人気ゲーム機「スヌケマシン」を買おうとしています。\n",
    "スヌケマシンを販売している店は店 \n",
    "1\n",
    ",\n",
    "2\n",
    ",\n",
    "…\n",
    ",\n",
    "N\n",
    " の \n",
    "N\n",
    " 軒あり、店 \n",
    "i\n",
    " は高橋くんの現在地から徒歩 \n",
    "A\n",
    "i\n",
    " 分、スヌケマシンの販売価格は \n",
    "P\n",
    "i\n",
    " 円、現在のスヌケマシンの在庫は \n",
    "X\n",
    "i\n",
    " 台です。\n",
    "高橋くんは今から徒歩でスヌケマシンを販売している店に向かい、店に着いたときにスヌケマシンの在庫があればスヌケマシンを買います。\n",
    "しかし、スヌケマシンは人気商品なので、今から \n",
    "0.5\n",
    ",\n",
    "1.5\n",
    ",\n",
    "2.5\n",
    ",\n",
    "…\n",
    " 分後に全ての店でスヌケマシンの在庫が (存在するなら) \n",
    "1\n",
    " 台減ります。\n",
    "高橋くんがスヌケマシンを買うことができるか判定し、できる場合は買うのに必要な最小の金額を求めてください。\n",
    "\n"
   ]
  },
  {
   "cell_type": "code",
   "execution_count": 32,
   "metadata": {},
   "outputs": [
    {
     "name": "stdout",
     "output_type": "stream",
     "text": [
      "3\n",
      "5 9 5\n",
      "6 8 5\n",
      "7 7 5\n",
      "-1\n"
     ]
    }
   ],
   "source": [
    "N = int(input()) #　店舗数\n",
    "\n",
    "\n",
    "lis =[]\n",
    "for i in range(N):\n",
    "    lis.append(list(map(int, input().split())))\n",
    "lis\n",
    "\n",
    "ans_lis =[]\n",
    "\n",
    "for i in lis:\n",
    "    if i[2] - i[0] > 0:\n",
    "        ans_lis.append(i[1])\n",
    "    \n",
    "if not ans_lis:\n",
    "    print(-1)\n",
    "else:\n",
    "    print(min(ans_lis))"
   ]
  },
  {
   "cell_type": "markdown",
   "metadata": {},
   "source": [
    "# C - Unexpressed"
   ]
  },
  {
   "cell_type": "markdown",
   "metadata": {},
   "source": [
    "整数 \n",
    "N\n",
    " が与えられます。 \n",
    "1\n",
    " 以上 \n",
    "N\n",
    " 以下の整数のうち、 \n",
    "2\n",
    " 以上の整数 \n",
    "a\n",
    ",\n",
    "b\n",
    " を用いて \n",
    "a\n",
    "b\n",
    " と表せないものはいくつあるでしょうか？"
   ]
  },
  {
   "cell_type": "code",
   "execution_count": 46,
   "metadata": {},
   "outputs": [
    {
     "name": "stdout",
     "output_type": "stream",
     "text": [
      "8\n"
     ]
    },
    {
     "data": {
      "text/plain": [
       "[1, 2, 3, 4, 5, 6, 7, 8]"
      ]
     },
     "execution_count": 46,
     "metadata": {},
     "output_type": "execute_result"
    }
   ],
   "source": [
    "N = int(input())\n",
    "\n",
    "lis = list(range(1,N+1))\n",
    "lis\n",
    "\n"
   ]
  },
  {
   "cell_type": "code",
   "execution_count": 50,
   "metadata": {
    "scrolled": true
   },
   "outputs": [
    {
     "data": {
      "text/plain": [
       "{4,\n",
       " 8,\n",
       " 9,\n",
       " 16,\n",
       " 25,\n",
       " 27,\n",
       " 32,\n",
       " 36,\n",
       " 49,\n",
       " 64,\n",
       " 81,\n",
       " 125,\n",
       " 128,\n",
       " 216,\n",
       " 243,\n",
       " 256,\n",
       " 343,\n",
       " 512,\n",
       " 625,\n",
       " 729,\n",
       " 1024,\n",
       " 1296,\n",
       " 2187,\n",
       " 2401,\n",
       " 3125,\n",
       " 4096,\n",
       " 6561,\n",
       " 7776,\n",
       " 15625,\n",
       " 16384,\n",
       " 16807,\n",
       " 32768,\n",
       " 46656,\n",
       " 65536,\n",
       " 78125,\n",
       " 117649,\n",
       " 262144,\n",
       " 279936,\n",
       " 390625,\n",
       " 823543,\n",
       " 1679616,\n",
       " 2097152,\n",
       " 5764801,\n",
       " 16777216}"
      ]
     },
     "execution_count": 50,
     "metadata": {},
     "output_type": "execute_result"
    }
   ],
   "source": [
    "all_lis = []\n",
    "\n",
    "for i in range(2, N+1):\n",
    "    for j in range(2, N+1):\n",
    "        all_lis.append(i**j)\n",
    "        \n",
    "all_lis = set(all_lis)\n",
    "all_lis"
   ]
  },
  {
   "cell_type": "code",
   "execution_count": 51,
   "metadata": {},
   "outputs": [
    {
     "name": "stdout",
     "output_type": "stream",
     "text": [
      "2\n"
     ]
    }
   ],
   "source": [
    "cnt = 0\n",
    "\n",
    "for i in lis:\n",
    "    if i in all_lis:\n",
    "        cnt +=1\n",
    "\n",
    "ans = N - cnt:\n",
    "print(ans)"
   ]
  },
  {
   "cell_type": "code",
   "execution_count": 71,
   "metadata": {},
   "outputs": [
    {
     "name": "stdout",
     "output_type": "stream",
     "text": [
      "8\n",
      "[1, 2, 3, 4, 5, 6, 7, 8]\n",
      "6\n"
     ]
    }
   ],
   "source": [
    "N = int(input())\n",
    "lis = list(range(1,N+1))\n",
    "print(lis)\n",
    "\n",
    "all_lis = []                 # N以下の全ての組み合わせ（２以上）\n",
    "for i in range(2, 400):\n",
    "    for j in range(2, 400):\n",
    "        all_lis.append(i**j)\n",
    "        \n",
    "all_lis = set(all_lis)\n",
    "\n",
    "cnt = 0\n",
    "for i in lis:\n",
    "    if i in all_lis:\n",
    "        cnt +=1\n",
    "\n",
    "ans = N - cnt\n",
    "print(ans)"
   ]
  },
  {
   "cell_type": "code",
   "execution_count": null,
   "metadata": {},
   "outputs": [],
   "source": []
  }
 ],
 "metadata": {
  "kernelspec": {
   "display_name": "Python 3",
   "language": "python",
   "name": "python3"
  },
  "language_info": {
   "codemirror_mode": {
    "name": "ipython",
    "version": 3
   },
   "file_extension": ".py",
   "mimetype": "text/x-python",
   "name": "python",
   "nbconvert_exporter": "python",
   "pygments_lexer": "ipython3",
   "version": "3.6.8"
  }
 },
 "nbformat": 4,
 "nbformat_minor": 2
}
