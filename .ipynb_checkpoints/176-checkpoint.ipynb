{
 "cells": [
  {
   "cell_type": "markdown",
   "metadata": {},
   "source": [
    "# A"
   ]
  },
  {
   "cell_type": "markdown",
   "metadata": {},
   "source": [
    "## 高橋君はたこ焼きが好きです。\n",
    "\n",
    "## たこ焼き器を使うと、1度に最大で X個のたこ焼きを作ることができます。これにかかる時間は作る個数によらず T分です。N個のたこ焼きを作るためには何分必要ですか？"
   ]
  },
  {
   "cell_type": "markdown",
   "metadata": {},
   "source": [
    "## Takahashi loves takoyaki - a ball-shaped snack.\n",
    "\n",
    "## With a takoyaki machine, he can make at most X pieces of takoyaki at a time, taking T minutes regardless of the number of pieces to make. How long does it take to make N takoyaki?"
   ]
  },
  {
   "cell_type": "code",
   "execution_count": 12,
   "metadata": {},
   "outputs": [
    {
     "name": "stdout",
     "output_type": "stream",
     "text": [
      "20 12 6\n",
      "12\n"
     ]
    }
   ],
   "source": [
    "N, X, T = map(int, input().split())\n",
    "\n",
    "K = (N+X-1)// X # (N+X−1)を Xで整数除算\n",
    "ans = K * T\n",
    "\n",
    "print(K * T)"
   ]
  },
  {
   "cell_type": "code",
   "execution_count": null,
   "metadata": {},
   "outputs": [],
   "source": []
  },
  {
   "cell_type": "markdown",
   "metadata": {},
   "source": [
    "# B"
   ]
  },
  {
   "cell_type": "markdown",
   "metadata": {},
   "source": [
    "## 整数 Nが 9の倍数であることと、Nを十進法で表したときの各桁の数の和が 9の倍数であることは同値です。Nが 9の倍数であるか判定してください。\n",
    "\n"
   ]
  },
  {
   "cell_type": "markdown",
   "metadata": {},
   "source": [
    "## An integer N is a multiple of 9 if and only if the sum of the digits in the decimal representation of N is a multiple of 9. Determine whether N is a multiple of 9.\n",
    "\n"
   ]
  },
  {
   "cell_type": "code",
   "execution_count": 22,
   "metadata": {},
   "outputs": [
    {
     "name": "stdout",
     "output_type": "stream",
     "text": [
      "123\n",
      "No\n"
     ]
    }
   ],
   "source": [
    "N = input()\n",
    "num = 0\n",
    "\n",
    "for i in N:       # 一桁ずつ取り出して、足していく\n",
    "    num +=int(i)\n",
    "    \n",
    "if num % 9 ==0:\n",
    "    print(\"Yes\")\n",
    "else:\n",
    "    print(\"No\")"
   ]
  }
 ],
 "metadata": {
  "kernelspec": {
   "display_name": "Python 3",
   "language": "python",
   "name": "python3"
  },
  "language_info": {
   "codemirror_mode": {
    "name": "ipython",
    "version": 3
   },
   "file_extension": ".py",
   "mimetype": "text/x-python",
   "name": "python",
   "nbconvert_exporter": "python",
   "pygments_lexer": "ipython3",
   "version": "3.6.8"
  }
 },
 "nbformat": 4,
 "nbformat_minor": 2
}
