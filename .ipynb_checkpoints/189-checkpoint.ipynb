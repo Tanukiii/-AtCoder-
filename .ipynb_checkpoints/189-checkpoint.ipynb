{
 "cells": [
  {
   "cell_type": "markdown",
   "metadata": {},
   "source": [
    "# A"
   ]
  },
  {
   "cell_type": "markdown",
   "metadata": {},
   "source": [
    "あなたはスロットマシーンで遊んでいます。\n",
    "\n",
    "スロットを回した結果は \n",
    "3\n",
    " 文字の英大文字 \n",
    "C\n",
    "1\n",
    ",\n",
    "C\n",
    "2\n",
    ",\n",
    "C\n",
    "3\n",
    " で表され、これらが全て同じ文字であるとき当たりです。\n",
    "\n",
    "当たりかどうか判定してください。\n",
    "当たりなら Won を、当たりでないなら Lost を出力せよ。"
   ]
  },
  {
   "cell_type": "code",
   "execution_count": 2,
   "metadata": {},
   "outputs": [
    {
     "name": "stdout",
     "output_type": "stream",
     "text": [
      "AKS\n",
      "Lost\n"
     ]
    }
   ],
   "source": [
    "C = input()\n",
    "\n",
    "if C[0]==C[1]==C[2]:\n",
    "    print(\"Won\")\n",
    "else:\n",
    "    print(\"Lost\")"
   ]
  },
  {
   "cell_type": "markdown",
   "metadata": {},
   "source": [
    "# B Alcoholic"
   ]
  },
  {
   "cell_type": "markdown",
   "metadata": {},
   "source": [
    "高橋君はお酒を \n",
    "N\n",
    " 杯飲みました。\n",
    "\n",
    "i\n",
    " 番目に飲んだお酒は、量が \n",
    "V\n",
    "i\n",
    " ml、アルコール度数が \n",
    "P\n",
    "i\n",
    " % です。\n",
    "\n",
    "高橋君はアルコールの摂取量が \n",
    "X\n",
    " ml を超えると酔っ払います。\n",
    "\n",
    "高橋君が酔っ払ったのは何杯目のお酒を飲んでいるときですか。ただし、\n",
    "N\n",
    " 杯全てのお酒を飲んだあとでも酔っ払っていない場合は、かわりに -1 を出力してください。"
   ]
  },
  {
   "cell_type": "code",
   "execution_count": 31,
   "metadata": {},
   "outputs": [
    {
     "name": "stdout",
     "output_type": "stream",
     "text": [
      "2 20\n",
      "200 5\n",
      "200 5\n",
      "-1\n"
     ]
    }
   ],
   "source": [
    "N, X = map(int, input().split())\n",
    "alc = [list(map(int,input().split())) for _ in range(N)]\n",
    "\n",
    "intake = 0\n",
    "cnt =0\n",
    "\n",
    "for v, p in alc:\n",
    "    intake += v *(p/100)\n",
    "    cnt += 1\n",
    "    \n",
    "    if intake > X:\n",
    "        print(cnt)\n",
    "        break\n",
    "    \n",
    "if intake <= X:\n",
    "    print(-1)\n",
    "\n",
    "        \n",
    "#print(v *(p/100))\n",
    "\n",
    "#print(alc)"
   ]
  },
  {
   "cell_type": "code",
   "execution_count": null,
   "metadata": {},
   "outputs": [],
   "source": [
    "2 15\n",
    "200 5\n",
    "350 3\n",
    "\n",
    "2"
   ]
  },
  {
   "cell_type": "code",
   "execution_count": null,
   "metadata": {},
   "outputs": [],
   "source": [
    "2 10\n",
    "200 5\n",
    "350 3\n",
    "\n",
    "2"
   ]
  },
  {
   "cell_type": "code",
   "execution_count": null,
   "metadata": {},
   "outputs": [],
   "source": [
    "3 1000000\n",
    "1000 100\n",
    "1000 100\n",
    "1000 100\n",
    "\n"
   ]
  }
 ],
 "metadata": {
  "kernelspec": {
   "display_name": "Python 3",
   "language": "python",
   "name": "python3"
  },
  "language_info": {
   "codemirror_mode": {
    "name": "ipython",
    "version": 3
   },
   "file_extension": ".py",
   "mimetype": "text/x-python",
   "name": "python",
   "nbconvert_exporter": "python",
   "pygments_lexer": "ipython3",
   "version": "3.6.8"
  }
 },
 "nbformat": 4,
 "nbformat_minor": 2
}
