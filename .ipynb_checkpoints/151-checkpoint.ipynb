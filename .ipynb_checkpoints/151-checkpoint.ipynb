{
 "cells": [
  {
   "cell_type": "markdown",
   "metadata": {},
   "source": [
    "# A Next Alphabet"
   ]
  },
  {
   "cell_type": "markdown",
   "metadata": {},
   "source": [
    "z でない英小文字 \n",
    "C\n",
    " が与えられます。アルファベット順で \n",
    "C\n",
    " の次の文字を出力してください。"
   ]
  },
  {
   "cell_type": "code",
   "execution_count": 1,
   "metadata": {},
   "outputs": [
    {
     "name": "stdout",
     "output_type": "stream",
     "text": [
      "e\n",
      "e\n"
     ]
    }
   ],
   "source": [
    "C = input()\n",
    "ans = chr(ord(C)+1)\n",
    "\n",
    "print(ans)\n",
    "\n",
    "#print(ord('a'))\n",
    "# 97\n",
    "\n",
    "#print(chr(97))\n",
    "# a"
   ]
  },
  {
   "cell_type": "markdown",
   "metadata": {},
   "source": [
    "# B Achieve the Goal"
   ]
  },
  {
   "cell_type": "markdown",
   "metadata": {},
   "source": [
    "高橋君は \n",
    "N\n",
    " 科目のテストを受けます。各テストは \n",
    "K\n",
    " 点満点であり、点数はそれぞれ \n",
    "0\n",
    " 以上の整数です。\n",
    "\n",
    "高橋君は \n",
    "N\n",
    "−\n",
    "1\n",
    " 科目のテストを既に受けており、\n",
    "i\n",
    " 番目の科目のテストの点数は \n",
    "A\n",
    "i\n",
    " 点でした。\n",
    "\n",
    "高橋君の目標は、\n",
    "N\n",
    " 科目のテストの平均点を \n",
    "M\n",
    " 点以上にすることです。\n",
    "\n",
    "高橋君が目標を達成するためには、最後のテストで最低何点取る必要があるか出力してください。\n",
    "\n",
    "達成不可能である場合は、代わりに -1 を出力してください。"
   ]
  },
  {
   "cell_type": "code",
   "execution_count": 5,
   "metadata": {},
   "outputs": [
    {
     "name": "stdout",
     "output_type": "stream",
     "text": [
      "3 10 4\n",
      "4 9\n",
      "0\n"
     ]
    }
   ],
   "source": [
    "N, K, M = map(int, input().split())\n",
    "a = list(map(int, input().split()))\n",
    "\n",
    "sum_a = sum(a)\n",
    "ans = (M * N) - sum_a\n",
    "\n",
    "if ans > K:  # 満点Kよりとる（不可能）\n",
    "    ans = -1\n",
    "elif ans < 0: # 既に達成\n",
    "    ans = 0\n",
    "\n",
    "print(ans)"
   ]
  },
  {
   "cell_type": "markdown",
   "metadata": {},
   "source": [
    "# C Welcome to AtCoder"
   ]
  },
  {
   "cell_type": "markdown",
   "metadata": {},
   "source": [
    "高橋君は AtCoder のコンテストに参加しています。\n",
    "\n",
    "このコンテストでは、 \n",
    "N\n",
    " 問の問題が出題されます。\n",
    "\n",
    "高橋君はコンテスト中に \n",
    "M\n",
    " 回の提出を行いました。\n",
    "\n",
    "i\n",
    " 回目の提出は \n",
    "p\n",
    "i\n",
    " 番目の問題への提出であり、結果は \n",
    "S\n",
    "i\n",
    " (AC または WA) でした。\n",
    "\n",
    "高橋君の正答数は、AC を \n",
    "1\n",
    " 回以上出した問題の数です。\n",
    "\n",
    "高橋君のペナルティ数は、高橋君が AC を \n",
    "1\n",
    " 回以上出した各問題において、初めて AC を出すまでに出した WA の数の総和です。\n",
    "\n",
    "高橋君の正答数とペナルティ数を答えてください。"
   ]
  },
  {
   "cell_type": "code",
   "execution_count": null,
   "metadata": {},
   "outputs": [],
   "source": [
    "n, m= map(int, input().split())\n",
    "ps = [list(map(str,input().split())) for _ in range(m)]\n",
    "\n",
    "str_l = [\"WA\"]*n\n",
    "int_l = [0]*n\n",
    "\n",
    "num = 0\n",
    "ac = 0\n",
    "\n",
    "\n",
    "\n",
    "for pp, s in ps:\n",
    "    p = int(pp)-1\n",
    "    if s == \"AC\":\n",
    "        str_l[p] = \"AC\"\n",
    "    else:\n",
    "        if str_l[p] != \"AC\":\n",
    "            int_l[p] += 1\n",
    "\n",
    "for i in range(n):\n",
    "    if str_l[i] == \"AC\":\n",
    "        num += int_l[i]\n",
    "        ac += 1\n",
    "\n",
    "print(ac,num)"
   ]
  },
  {
   "cell_type": "code",
   "execution_count": 9,
   "metadata": {},
   "outputs": [
    {
     "name": "stdout",
     "output_type": "stream",
     "text": [
      "1 WA\n",
      "1 AC\n",
      "2 WA\n",
      "[['1', 'WA'], ['1', 'AC'], ['2', 'WA']]\n"
     ]
    }
   ],
   "source": [
    "ps = [list(map(str,input().split())) for _ in range(3)]\n",
    "print(ps)"
   ]
  }
 ],
 "metadata": {
  "kernelspec": {
   "display_name": "Python 3",
   "language": "python",
   "name": "python3"
  },
  "language_info": {
   "codemirror_mode": {
    "name": "ipython",
    "version": 3
   },
   "file_extension": ".py",
   "mimetype": "text/x-python",
   "name": "python",
   "nbconvert_exporter": "python",
   "pygments_lexer": "ipython3",
   "version": "3.6.8"
  }
 },
 "nbformat": 4,
 "nbformat_minor": 2
}
